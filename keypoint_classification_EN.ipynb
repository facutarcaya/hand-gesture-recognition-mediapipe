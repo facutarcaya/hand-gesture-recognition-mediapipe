{
 "cells": [
  {
   "cell_type": "code",
   "execution_count": 1,
   "metadata": {
    "id": "igMyGnjE9hEp"
   },
   "outputs": [],
   "source": [
    "import csv\n",
    "\n",
    "import numpy as np\n",
    "import tensorflow as tf\n",
    "from sklearn.model_selection import train_test_split\n",
    "\n",
    "RANDOM_SEED = 42"
   ]
  },
  {
   "cell_type": "markdown",
   "metadata": {
    "id": "t2HDvhIu9hEr"
   },
   "source": [
    "# Specify each path"
   ]
  },
  {
   "cell_type": "code",
   "execution_count": 2,
   "metadata": {
    "id": "9NvZP2Zn9hEy"
   },
   "outputs": [],
   "source": [
    "dataset = 'model/keypoint_classifier/keypoint.csv'\n",
    "model_save_path = 'model/keypoint_classifier/keypoint_classifier.hdf5'\n",
    "tflite_save_path = 'model/keypoint_classifier/keypoint_classifier.tflite'"
   ]
  },
  {
   "cell_type": "markdown",
   "metadata": {
    "id": "s5oMH7x19hEz"
   },
   "source": [
    "# Set number of classes"
   ]
  },
  {
   "cell_type": "code",
   "execution_count": 3,
   "metadata": {
    "id": "du4kodXL9hEz"
   },
   "outputs": [],
   "source": [
    "NUM_CLASSES = 24"
   ]
  },
  {
   "cell_type": "markdown",
   "metadata": {
    "id": "XjnL0uso9hEz"
   },
   "source": [
    "# Dataset reading"
   ]
  },
  {
   "cell_type": "code",
   "execution_count": 4,
   "metadata": {
    "id": "QT5ZqtEz9hE0"
   },
   "outputs": [],
   "source": [
    "X_dataset = np.loadtxt(dataset, delimiter=',', dtype='float32', usecols=list(range(1, (42) + 1)))"
   ]
  },
  {
   "cell_type": "code",
   "execution_count": 5,
   "metadata": {
    "id": "QmoKFsp49hE0"
   },
   "outputs": [],
   "source": [
    "y_dataset = np.loadtxt(dataset, delimiter=',', dtype='int32', usecols=(0))"
   ]
  },
  {
   "cell_type": "code",
   "execution_count": 6,
   "metadata": {
    "id": "xQU7JTZ_9hE0"
   },
   "outputs": [],
   "source": [
    "X_train, X_test, y_train, y_test = train_test_split(X_dataset, y_dataset, train_size=0.75, random_state=RANDOM_SEED)"
   ]
  },
  {
   "cell_type": "markdown",
   "metadata": {
    "id": "mxK_lETT9hE0"
   },
   "source": [
    "# Model building"
   ]
  },
  {
   "cell_type": "code",
   "execution_count": 7,
   "metadata": {
    "id": "vHBmUf1t9hE1"
   },
   "outputs": [],
   "source": [
    "model = tf.keras.models.Sequential([\n",
    "    tf.keras.layers.Input((42, )),\n",
    "    tf.keras.layers.Dropout(0.2),\n",
    "    tf.keras.layers.Dense(20, activation='relu'),\n",
    "    tf.keras.layers.Dropout(0.4),\n",
    "    tf.keras.layers.Dense(10, activation='relu'),\n",
    "    tf.keras.layers.Dense(NUM_CLASSES, activation='softmax')\n",
    "])"
   ]
  },
  {
   "cell_type": "code",
   "execution_count": 8,
   "metadata": {
    "colab": {
     "base_uri": "https://localhost:8080/"
    },
    "id": "ypqky9tc9hE1",
    "outputId": "5db082bb-30e3-4110-bf63-a1ee777ecd46"
   },
   "outputs": [
    {
     "name": "stdout",
     "output_type": "stream",
     "text": [
      "Model: \"sequential\"\n",
      "_________________________________________________________________\n",
      " Layer (type)                Output Shape              Param #   \n",
      "=================================================================\n",
      " dropout (Dropout)           (None, 42)                0         \n",
      "                                                                 \n",
      " dense (Dense)               (None, 20)                860       \n",
      "                                                                 \n",
      " dropout_1 (Dropout)         (None, 20)                0         \n",
      "                                                                 \n",
      " dense_1 (Dense)             (None, 10)                210       \n",
      "                                                                 \n",
      " dense_2 (Dense)             (None, 24)                264       \n",
      "                                                                 \n",
      "=================================================================\n",
      "Total params: 1,334\n",
      "Trainable params: 1,334\n",
      "Non-trainable params: 0\n",
      "_________________________________________________________________\n"
     ]
    }
   ],
   "source": [
    "model.summary()  # tf.keras.utils.plot_model(model, show_shapes=True)"
   ]
  },
  {
   "cell_type": "code",
   "execution_count": 9,
   "metadata": {
    "id": "MbMjOflQ9hE1"
   },
   "outputs": [],
   "source": [
    "# Model checkpoint callback\n",
    "cp_callback = tf.keras.callbacks.ModelCheckpoint(\n",
    "    model_save_path, verbose=1, save_weights_only=False)\n",
    "# Callback for early stopping\n",
    "es_callback = tf.keras.callbacks.EarlyStopping(patience=20, verbose=1)"
   ]
  },
  {
   "cell_type": "code",
   "execution_count": 10,
   "metadata": {
    "id": "c3Dac0M_9hE2"
   },
   "outputs": [],
   "source": [
    "# Model compilation\n",
    "model.compile(\n",
    "    optimizer='adam',\n",
    "    loss='sparse_categorical_crossentropy',\n",
    "    metrics=['accuracy']\n",
    ")"
   ]
  },
  {
   "cell_type": "markdown",
   "metadata": {
    "id": "7XI0j1Iu9hE2"
   },
   "source": [
    "# Model training"
   ]
  },
  {
   "cell_type": "code",
   "execution_count": 11,
   "metadata": {
    "colab": {
     "base_uri": "https://localhost:8080/"
    },
    "id": "WirBl-JE9hE3",
    "outputId": "71b30ca2-8294-4d9d-8aa2-800d90d399de",
    "scrolled": true
   },
   "outputs": [
    {
     "name": "stdout",
     "output_type": "stream",
     "text": [
      "Epoch 1/1000\n",
      "1/1 [==============================] - ETA: 0s - loss: 3.1241 - accuracy: 0.0000e+00\n",
      "Epoch 1: saving model to model/keypoint_classifier\\keypoint_classifier.hdf5\n",
      "1/1 [==============================] - 1s 1s/step - loss: 3.1241 - accuracy: 0.0000e+00 - val_loss: 3.2047 - val_accuracy: 0.0000e+00\n",
      "Epoch 2/1000\n",
      "1/1 [==============================] - ETA: 0s - loss: 3.2033 - accuracy: 0.0000e+00\n",
      "Epoch 2: saving model to model/keypoint_classifier\\keypoint_classifier.hdf5\n",
      "1/1 [==============================] - 0s 63ms/step - loss: 3.2033 - accuracy: 0.0000e+00 - val_loss: 3.2027 - val_accuracy: 0.0000e+00\n",
      "Epoch 3/1000\n",
      "1/1 [==============================] - ETA: 0s - loss: 3.2040 - accuracy: 0.0000e+00\n",
      "Epoch 3: saving model to model/keypoint_classifier\\keypoint_classifier.hdf5\n",
      "1/1 [==============================] - 0s 62ms/step - loss: 3.2040 - accuracy: 0.0000e+00 - val_loss: 3.2012 - val_accuracy: 0.0000e+00\n",
      "Epoch 4/1000\n",
      "1/1 [==============================] - ETA: 0s - loss: 3.1599 - accuracy: 0.1111\n",
      "Epoch 4: saving model to model/keypoint_classifier\\keypoint_classifier.hdf5\n",
      "1/1 [==============================] - 0s 58ms/step - loss: 3.1599 - accuracy: 0.1111 - val_loss: 3.2000 - val_accuracy: 0.0000e+00\n",
      "Epoch 5/1000\n",
      "1/1 [==============================] - ETA: 0s - loss: 3.1556 - accuracy: 0.0556\n",
      "Epoch 5: saving model to model/keypoint_classifier\\keypoint_classifier.hdf5\n",
      "1/1 [==============================] - 0s 62ms/step - loss: 3.1556 - accuracy: 0.0556 - val_loss: 3.2003 - val_accuracy: 0.0000e+00\n",
      "Epoch 6/1000\n",
      "1/1 [==============================] - ETA: 0s - loss: 3.1359 - accuracy: 0.0000e+00\n",
      "Epoch 6: saving model to model/keypoint_classifier\\keypoint_classifier.hdf5\n",
      "1/1 [==============================] - 0s 56ms/step - loss: 3.1359 - accuracy: 0.0000e+00 - val_loss: 3.1998 - val_accuracy: 0.0000e+00\n",
      "Epoch 7/1000\n",
      "1/1 [==============================] - ETA: 0s - loss: 3.1228 - accuracy: 0.0000e+00\n",
      "Epoch 7: saving model to model/keypoint_classifier\\keypoint_classifier.hdf5\n",
      "1/1 [==============================] - 0s 65ms/step - loss: 3.1228 - accuracy: 0.0000e+00 - val_loss: 3.1996 - val_accuracy: 0.0000e+00\n",
      "Epoch 8/1000\n",
      "1/1 [==============================] - ETA: 0s - loss: 3.1653 - accuracy: 0.0000e+00\n",
      "Epoch 8: saving model to model/keypoint_classifier\\keypoint_classifier.hdf5\n",
      "1/1 [==============================] - 0s 64ms/step - loss: 3.1653 - accuracy: 0.0000e+00 - val_loss: 3.1994 - val_accuracy: 0.0000e+00\n",
      "Epoch 9/1000\n",
      "1/1 [==============================] - ETA: 0s - loss: 3.1429 - accuracy: 0.0000e+00\n",
      "Epoch 9: saving model to model/keypoint_classifier\\keypoint_classifier.hdf5\n",
      "1/1 [==============================] - 0s 66ms/step - loss: 3.1429 - accuracy: 0.0000e+00 - val_loss: 3.1994 - val_accuracy: 0.0000e+00\n",
      "Epoch 10/1000\n",
      "1/1 [==============================] - ETA: 0s - loss: 3.1776 - accuracy: 0.0556\n",
      "Epoch 10: saving model to model/keypoint_classifier\\keypoint_classifier.hdf5\n",
      "1/1 [==============================] - 0s 62ms/step - loss: 3.1776 - accuracy: 0.0556 - val_loss: 3.1998 - val_accuracy: 0.0000e+00\n",
      "Epoch 11/1000\n",
      "1/1 [==============================] - ETA: 0s - loss: 3.1287 - accuracy: 0.0556\n",
      "Epoch 11: saving model to model/keypoint_classifier\\keypoint_classifier.hdf5\n",
      "1/1 [==============================] - 0s 62ms/step - loss: 3.1287 - accuracy: 0.0556 - val_loss: 3.2005 - val_accuracy: 0.0000e+00\n",
      "Epoch 12/1000\n",
      "1/1 [==============================] - ETA: 0s - loss: 3.1532 - accuracy: 0.0556\n",
      "Epoch 12: saving model to model/keypoint_classifier\\keypoint_classifier.hdf5\n",
      "1/1 [==============================] - 0s 60ms/step - loss: 3.1532 - accuracy: 0.0556 - val_loss: 3.2014 - val_accuracy: 0.0000e+00\n",
      "Epoch 13/1000\n",
      "1/1 [==============================] - ETA: 0s - loss: 3.1616 - accuracy: 0.0000e+00\n",
      "Epoch 13: saving model to model/keypoint_classifier\\keypoint_classifier.hdf5\n",
      "1/1 [==============================] - 0s 58ms/step - loss: 3.1616 - accuracy: 0.0000e+00 - val_loss: 3.2025 - val_accuracy: 0.0000e+00\n",
      "Epoch 14/1000\n",
      "1/1 [==============================] - ETA: 0s - loss: 3.1292 - accuracy: 0.0556\n",
      "Epoch 14: saving model to model/keypoint_classifier\\keypoint_classifier.hdf5\n",
      "1/1 [==============================] - 0s 69ms/step - loss: 3.1292 - accuracy: 0.0556 - val_loss: 3.2030 - val_accuracy: 0.0000e+00\n",
      "Epoch 15/1000\n",
      "1/1 [==============================] - ETA: 0s - loss: 3.0900 - accuracy: 0.0000e+00\n",
      "Epoch 15: saving model to model/keypoint_classifier\\keypoint_classifier.hdf5\n",
      "1/1 [==============================] - 0s 90ms/step - loss: 3.0900 - accuracy: 0.0000e+00 - val_loss: 3.2042 - val_accuracy: 0.0000e+00\n",
      "Epoch 16/1000\n",
      "1/1 [==============================] - ETA: 0s - loss: 3.1338 - accuracy: 0.0556\n",
      "Epoch 16: saving model to model/keypoint_classifier\\keypoint_classifier.hdf5\n",
      "1/1 [==============================] - 0s 81ms/step - loss: 3.1338 - accuracy: 0.0556 - val_loss: 3.2052 - val_accuracy: 0.0000e+00\n",
      "Epoch 17/1000\n",
      "1/1 [==============================] - ETA: 0s - loss: 3.1214 - accuracy: 0.0000e+00\n",
      "Epoch 17: saving model to model/keypoint_classifier\\keypoint_classifier.hdf5\n",
      "1/1 [==============================] - 0s 61ms/step - loss: 3.1214 - accuracy: 0.0000e+00 - val_loss: 3.2060 - val_accuracy: 0.0000e+00\n",
      "Epoch 18/1000\n",
      "1/1 [==============================] - ETA: 0s - loss: 3.0914 - accuracy: 0.0556\n",
      "Epoch 18: saving model to model/keypoint_classifier\\keypoint_classifier.hdf5\n",
      "1/1 [==============================] - 0s 57ms/step - loss: 3.0914 - accuracy: 0.0556 - val_loss: 3.2073 - val_accuracy: 0.0000e+00\n",
      "Epoch 19/1000\n",
      "1/1 [==============================] - ETA: 0s - loss: 3.1158 - accuracy: 0.0000e+00\n",
      "Epoch 19: saving model to model/keypoint_classifier\\keypoint_classifier.hdf5\n",
      "1/1 [==============================] - 0s 75ms/step - loss: 3.1158 - accuracy: 0.0000e+00 - val_loss: 3.2081 - val_accuracy: 0.0000e+00\n",
      "Epoch 20/1000\n",
      "1/1 [==============================] - ETA: 0s - loss: 3.0967 - accuracy: 0.0556\n",
      "Epoch 20: saving model to model/keypoint_classifier\\keypoint_classifier.hdf5\n",
      "1/1 [==============================] - 0s 58ms/step - loss: 3.0967 - accuracy: 0.0556 - val_loss: 3.2094 - val_accuracy: 0.0000e+00\n",
      "Epoch 21/1000\n",
      "1/1 [==============================] - ETA: 0s - loss: 3.1091 - accuracy: 0.0000e+00\n",
      "Epoch 21: saving model to model/keypoint_classifier\\keypoint_classifier.hdf5\n",
      "1/1 [==============================] - 0s 70ms/step - loss: 3.1091 - accuracy: 0.0000e+00 - val_loss: 3.2102 - val_accuracy: 0.0000e+00\n",
      "Epoch 22/1000\n",
      "1/1 [==============================] - ETA: 0s - loss: 3.0787 - accuracy: 0.1111\n",
      "Epoch 22: saving model to model/keypoint_classifier\\keypoint_classifier.hdf5\n",
      "1/1 [==============================] - 0s 65ms/step - loss: 3.0787 - accuracy: 0.1111 - val_loss: 3.2116 - val_accuracy: 0.0000e+00\n",
      "Epoch 23/1000\n",
      "1/1 [==============================] - ETA: 0s - loss: 3.0949 - accuracy: 0.0556\n",
      "Epoch 23: saving model to model/keypoint_classifier\\keypoint_classifier.hdf5\n",
      "1/1 [==============================] - 0s 60ms/step - loss: 3.0949 - accuracy: 0.0556 - val_loss: 3.2123 - val_accuracy: 0.0000e+00\n",
      "Epoch 24/1000\n",
      "1/1 [==============================] - ETA: 0s - loss: 3.1003 - accuracy: 0.0000e+00\n",
      "Epoch 24: saving model to model/keypoint_classifier\\keypoint_classifier.hdf5\n",
      "1/1 [==============================] - 0s 61ms/step - loss: 3.1003 - accuracy: 0.0000e+00 - val_loss: 3.2132 - val_accuracy: 0.0000e+00\n",
      "Epoch 25/1000\n",
      "1/1 [==============================] - ETA: 0s - loss: 3.0539 - accuracy: 0.1667\n",
      "Epoch 25: saving model to model/keypoint_classifier\\keypoint_classifier.hdf5\n",
      "1/1 [==============================] - 0s 61ms/step - loss: 3.0539 - accuracy: 0.1667 - val_loss: 3.2136 - val_accuracy: 0.0000e+00\n",
      "Epoch 26/1000\n",
      "1/1 [==============================] - ETA: 0s - loss: 3.0491 - accuracy: 0.0556\n",
      "Epoch 26: saving model to model/keypoint_classifier\\keypoint_classifier.hdf5\n",
      "1/1 [==============================] - 0s 62ms/step - loss: 3.0491 - accuracy: 0.0556 - val_loss: 3.2143 - val_accuracy: 0.0000e+00\n",
      "Epoch 27/1000\n",
      "1/1 [==============================] - ETA: 0s - loss: 3.0924 - accuracy: 0.0000e+00\n",
      "Epoch 27: saving model to model/keypoint_classifier\\keypoint_classifier.hdf5\n",
      "1/1 [==============================] - 0s 60ms/step - loss: 3.0924 - accuracy: 0.0000e+00 - val_loss: 3.2164 - val_accuracy: 0.0000e+00\n"
     ]
    },
    {
     "name": "stdout",
     "output_type": "stream",
     "text": [
      "Epoch 28/1000\n",
      "1/1 [==============================] - ETA: 0s - loss: 3.0678 - accuracy: 0.1111\n",
      "Epoch 28: saving model to model/keypoint_classifier\\keypoint_classifier.hdf5\n",
      "1/1 [==============================] - 0s 56ms/step - loss: 3.0678 - accuracy: 0.1111 - val_loss: 3.2190 - val_accuracy: 0.0000e+00\n",
      "Epoch 28: early stopping\n"
     ]
    },
    {
     "data": {
      "text/plain": [
       "<keras.callbacks.History at 0x2ab80323fd0>"
      ]
     },
     "execution_count": 11,
     "metadata": {},
     "output_type": "execute_result"
    }
   ],
   "source": [
    "model.fit(\n",
    "    X_train,\n",
    "    y_train,\n",
    "    epochs=1000,\n",
    "    batch_size=128,\n",
    "    validation_data=(X_test, y_test),\n",
    "    callbacks=[cp_callback, es_callback]\n",
    ")"
   ]
  },
  {
   "cell_type": "code",
   "execution_count": 12,
   "metadata": {
    "colab": {
     "base_uri": "https://localhost:8080/"
    },
    "id": "pxvb2Y299hE3",
    "outputId": "59eb3185-2e37-4b9e-bc9d-ab1b8ac29b7f"
   },
   "outputs": [
    {
     "name": "stdout",
     "output_type": "stream",
     "text": [
      "1/1 [==============================] - 0s 22ms/step - loss: 3.2190 - accuracy: 0.0000e+00\n"
     ]
    }
   ],
   "source": [
    "# Model evaluation\n",
    "val_loss, val_acc = model.evaluate(X_test, y_test, batch_size=128)"
   ]
  },
  {
   "cell_type": "code",
   "execution_count": 13,
   "metadata": {
    "id": "RBkmDeUW9hE4"
   },
   "outputs": [],
   "source": [
    "# Loading the saved model\n",
    "model = tf.keras.models.load_model(model_save_path)"
   ]
  },
  {
   "cell_type": "code",
   "execution_count": 14,
   "metadata": {
    "colab": {
     "base_uri": "https://localhost:8080/"
    },
    "id": "tFz9Tb0I9hE4",
    "outputId": "1c3b3528-54ae-4ee2-ab04-77429211cbef"
   },
   "outputs": [
    {
     "name": "stdout",
     "output_type": "stream",
     "text": [
      "1/1 [==============================] - 0s 131ms/step\n",
      "[0.03902084 0.04516889 0.05083859 0.05021565 0.04619002 0.03892055\n",
      " 0.0439823  0.0559246  0.03094684 0.05132392 0.05641983 0.03640275\n",
      " 0.02966614 0.03704323 0.04267433 0.03684786 0.03117102 0.04362125\n",
      " 0.03594881 0.03206176 0.04184165 0.04416959 0.04891142 0.03068824]\n",
      "10\n"
     ]
    }
   ],
   "source": [
    "# Inference test\n",
    "predict_result = model.predict(np.array([X_test[0]]))\n",
    "print(np.squeeze(predict_result))\n",
    "print(np.argmax(np.squeeze(predict_result)))"
   ]
  },
  {
   "cell_type": "markdown",
   "metadata": {
    "id": "S3U4yNWx9hE4"
   },
   "source": [
    "# Confusion matrix"
   ]
  },
  {
   "cell_type": "code",
   "execution_count": 15,
   "metadata": {
    "colab": {
     "base_uri": "https://localhost:8080/",
     "height": 582
    },
    "id": "AP1V6SCk9hE5",
    "outputId": "08e41a80-7a4a-4619-8125-ecc371368d19"
   },
   "outputs": [
    {
     "name": "stdout",
     "output_type": "stream",
     "text": [
      "1/1 [==============================] - 0s 20ms/step\n"
     ]
    },
    {
     "data": {
      "image/png": "[encoded data removed]",
      "text/plain": [
       "<Figure size 504x432 with 2 Axes>"
      ]
     },
     "metadata": {
      "needs_background": "light"
     },
     "output_type": "display_data"
    },
    {
     "name": "stdout",
     "output_type": "stream",
     "text": [
      "Classification Report\n",
      "              precision    recall  f1-score   support\n",
      "\n",
      "           0       0.00      0.00      0.00       1.0\n",
      "           1       0.00      0.00      0.00       1.0\n",
      "           6       0.00      0.00      0.00       1.0\n",
      "           7       0.00      0.00      0.00       0.0\n",
      "           8       0.00      0.00      0.00       2.0\n",
      "           9       0.00      0.00      0.00       1.0\n",
      "          10       0.00      0.00      0.00       0.0\n",
      "\n",
      "    accuracy                           0.00       6.0\n",
      "   macro avg       0.00      0.00      0.00       6.0\n",
      "weighted avg       0.00      0.00      0.00       6.0\n",
      "\n"
     ]
    },
    {
     "name": "stderr",
     "output_type": "stream",
     "text": [
      "C:\\Users\\facut\\anaconda3\\lib\\site-packages\\sklearn\\metrics\\_classification.py:1318: UndefinedMetricWarning: Precision and F-score are ill-defined and being set to 0.0 in labels with no predicted samples. Use `zero_division` parameter to control this behavior.\n",
      "  _warn_prf(average, modifier, msg_start, len(result))\n",
      "C:\\Users\\facut\\anaconda3\\lib\\site-packages\\sklearn\\metrics\\_classification.py:1318: UndefinedMetricWarning: Recall and F-score are ill-defined and being set to 0.0 in labels with no true samples. Use `zero_division` parameter to control this behavior.\n",
      "  _warn_prf(average, modifier, msg_start, len(result))\n",
      "C:\\Users\\facut\\anaconda3\\lib\\site-packages\\sklearn\\metrics\\_classification.py:1318: UndefinedMetricWarning: Precision and F-score are ill-defined and being set to 0.0 in labels with no predicted samples. Use `zero_division` parameter to control this behavior.\n",
      "  _warn_prf(average, modifier, msg_start, len(result))\n",
      "C:\\Users\\facut\\anaconda3\\lib\\site-packages\\sklearn\\metrics\\_classification.py:1318: UndefinedMetricWarning: Recall and F-score are ill-defined and being set to 0.0 in labels with no true samples. Use `zero_division` parameter to control this behavior.\n",
      "  _warn_prf(average, modifier, msg_start, len(result))\n",
      "C:\\Users\\facut\\anaconda3\\lib\\site-packages\\sklearn\\metrics\\_classification.py:1318: UndefinedMetricWarning: Precision and F-score are ill-defined and being set to 0.0 in labels with no predicted samples. Use `zero_division` parameter to control this behavior.\n",
      "  _warn_prf(average, modifier, msg_start, len(result))\n",
      "C:\\Users\\facut\\anaconda3\\lib\\site-packages\\sklearn\\metrics\\_classification.py:1318: UndefinedMetricWarning: Recall and F-score are ill-defined and being set to 0.0 in labels with no true samples. Use `zero_division` parameter to control this behavior.\n",
      "  _warn_prf(average, modifier, msg_start, len(result))\n"
     ]
    }
   ],
   "source": [
    "import pandas as pd\n",
    "import seaborn as sns\n",
    "import matplotlib.pyplot as plt\n",
    "from sklearn.metrics import confusion_matrix, classification_report\n",
    "\n",
    "def print_confusion_matrix(y_true, y_pred, report=True):\n",
    "    labels = sorted(list(set(y_true)))\n",
    "    cmx_data = confusion_matrix(y_true, y_pred, labels=labels)\n",
    "    \n",
    "    df_cmx = pd.DataFrame(cmx_data, index=labels, columns=labels)\n",
    " \n",
    "    fig, ax = plt.subplots(figsize=(7, 6))\n",
    "    sns.heatmap(df_cmx, annot=True, fmt='g' ,square=False)\n",
    "    ax.set_ylim(len(set(y_true)), 0)\n",
    "    plt.show()\n",
    "    \n",
    "    if report:\n",
    "        print('Classification Report')\n",
    "        print(classification_report(y_test, y_pred))\n",
    "\n",
    "Y_pred = model.predict(X_test)\n",
    "y_pred = np.argmax(Y_pred, axis=1)\n",
    "\n",
    "print_confusion_matrix(y_test, y_pred)"
   ]
  },
  {
   "cell_type": "markdown",
   "metadata": {
    "id": "FNP6aqzc9hE5"
   },
   "source": [
    "# Convert to model for Tensorflow-Lite"
   ]
  },
  {
   "cell_type": "code",
   "execution_count": 16,
   "metadata": {
    "id": "ODjnYyld9hE6"
   },
   "outputs": [],
   "source": [
    "# Save as a model dedicated to inference\n",
    "model.save(model_save_path, include_optimizer=False)"
   ]
  },
  {
   "cell_type": "code",
   "execution_count": 17,
   "metadata": {
    "colab": {
     "base_uri": "https://localhost:8080/"
    },
    "id": "zRfuK8Y59hE6",
    "outputId": "a4ca585c-b5d5-4244-8291-8674063209bb"
   },
   "outputs": [
    {
     "name": "stdout",
     "output_type": "stream",
     "text": [
      "INFO:tensorflow:Assets written to: C:\\Users\\facut\\AppData\\Local\\Temp\\tmpn8p4p_m8\\assets\n"
     ]
    },
    {
     "data": {
      "text/plain": [
       "7368"
      ]
     },
     "execution_count": 17,
     "metadata": {},
     "output_type": "execute_result"
    }
   ],
   "source": [
    "# Transform model (quantization)\n",
    "\n",
    "converter = tf.lite.TFLiteConverter.from_keras_model(model)\n",
    "converter.optimizations = [tf.lite.Optimize.DEFAULT]\n",
    "tflite_quantized_model = converter.convert()\n",
    "\n",
    "open(tflite_save_path, 'wb').write(tflite_quantized_model)"
   ]
  },
  {
   "cell_type": "markdown",
   "metadata": {
    "id": "CHBPBXdx9hE6"
   },
   "source": [
    "# Inference test"
   ]
  },
  {
   "cell_type": "code",
   "execution_count": 18,
   "metadata": {
    "id": "mGAzLocO9hE7"
   },
   "outputs": [],
   "source": [
    "interpreter = tf.lite.Interpreter(model_path=tflite_save_path)\n",
    "interpreter.allocate_tensors()"
   ]
  },
  {
   "cell_type": "code",
   "execution_count": 19,
   "metadata": {
    "id": "oQuDK8YS9hE7"
   },
   "outputs": [],
   "source": [
    "# Get I / O tensor\n",
    "input_details = interpreter.get_input_details()\n",
    "output_details = interpreter.get_output_details()"
   ]
  },
  {
   "cell_type": "code",
   "execution_count": 20,
   "metadata": {
    "id": "2_ixAf_l9hE7"
   },
   "outputs": [],
   "source": [
    "interpreter.set_tensor(input_details[0]['index'], np.array([X_test[0]]))"
   ]
  },
  {
   "cell_type": "code",
   "execution_count": 21,
   "metadata": {
    "colab": {
     "base_uri": "https://localhost:8080/"
    },
    "id": "s4FoAnuc9hE7",
    "outputId": "91f18257-8d8b-4ef3-c558-e9b5f94fabbf",
    "scrolled": true
   },
   "outputs": [
    {
     "name": "stdout",
     "output_type": "stream",
     "text": [
      "CPU times: total: 0 ns\n",
      "Wall time: 3 ms\n"
     ]
    }
   ],
   "source": [
    "%%time\n",
    "# Inference implementation\n",
    "interpreter.invoke()\n",
    "tflite_results = interpreter.get_tensor(output_details[0]['index'])"
   ]
  },
  {
   "cell_type": "code",
   "execution_count": 22,
   "metadata": {
    "colab": {
     "base_uri": "https://localhost:8080/"
    },
    "id": "vONjp19J9hE8",
    "outputId": "77205e24-fd00-42c4-f7b6-e06e527c2cba"
   },
   "outputs": [
    {
     "name": "stdout",
     "output_type": "stream",
     "text": [
      "[0.03902084 0.04516888 0.05083858 0.05021565 0.04619002 0.03892054\n",
      " 0.04398231 0.0559246  0.03094684 0.05132391 0.05641983 0.03640275\n",
      " 0.02966614 0.03704323 0.04267433 0.03684786 0.03117101 0.04362125\n",
      " 0.03594881 0.03206175 0.04184166 0.04416958 0.04891142 0.03068824]\n",
      "10\n"
     ]
    }
   ],
   "source": [
    "print(np.squeeze(tflite_results))\n",
    "print(np.argmax(np.squeeze(tflite_results)))"
   ]
  }
 ],
 "metadata": {
  "accelerator": "GPU",
  "colab": {
   "collapsed_sections": [],
   "name": "keypoint_classification_EN.ipynb",
   "provenance": [],
   "toc_visible": true
  },
  "kernelspec": {
   "display_name": "Python 3 (ipykernel)",
   "language": "python",
   "name": "python3"
  },
  "language_info": {
   "codemirror_mode": {
    "name": "ipython",
    "version": 3
   },
   "file_extension": ".py",
   "mimetype": "text/x-python",
   "name": "python",
   "nbconvert_exporter": "python",
   "pygments_lexer": "ipython3",
   "version": "3.9.12"
  },
  "vscode": {
   "interpreter": {
    "hash": "27c6baa97a892574197f957091cb3aaff94327548298875bfab569c25874bebe"
   }
  }
 },
 "nbformat": 4,
 "nbformat_minor": 1
}
