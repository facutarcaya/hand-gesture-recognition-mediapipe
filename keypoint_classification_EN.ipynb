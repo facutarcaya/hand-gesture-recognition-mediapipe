{
 "cells": [
  {
   "cell_type": "code",
   "execution_count": 1,
   "metadata": {
    "id": "igMyGnjE9hEp"
   },
   "outputs": [],
   "source": [
    "import csv\n",
    "\n",
    "import numpy as np\n",
    "import tensorflow as tf\n",
    "from sklearn.model_selection import train_test_split\n",
    "\n",
    "RANDOM_SEED = 42"
   ]
  },
  {
   "cell_type": "markdown",
   "metadata": {
    "id": "t2HDvhIu9hEr"
   },
   "source": [
    "# Specify each path"
   ]
  },
  {
   "cell_type": "code",
   "execution_count": 2,
   "metadata": {
    "id": "9NvZP2Zn9hEy"
   },
   "outputs": [],
   "source": [
    "dataset = 'model/keypoint_classifier/keypoint.csv'\n",
    "model_save_path = 'model/keypoint_classifier/keypoint_classifier.hdf5'\n",
    "tflite_save_path = 'model/keypoint_classifier/keypoint_classifier.tflite'"
   ]
  },
  {
   "cell_type": "markdown",
   "metadata": {
    "id": "s5oMH7x19hEz"
   },
   "source": [
    "# Set number of classes"
   ]
  },
  {
   "cell_type": "code",
   "execution_count": 3,
   "metadata": {
    "id": "du4kodXL9hEz"
   },
   "outputs": [],
   "source": [
    "NUM_CLASSES = 4"
   ]
  },
  {
   "cell_type": "markdown",
   "metadata": {
    "id": "XjnL0uso9hEz"
   },
   "source": [
    "# Dataset reading"
   ]
  },
  {
   "cell_type": "code",
   "execution_count": 4,
   "metadata": {
    "id": "QT5ZqtEz9hE0"
   },
   "outputs": [],
   "source": [
    "X_dataset = np.loadtxt(dataset, delimiter=',', dtype='float32', usecols=list(range(1, (42 * 2) + 1)))"
   ]
  },
  {
   "cell_type": "code",
   "execution_count": 5,
   "metadata": {
    "id": "QmoKFsp49hE0"
   },
   "outputs": [],
   "source": [
    "y_dataset = np.loadtxt(dataset, delimiter=',', dtype='int32', usecols=(0))"
   ]
  },
  {
   "cell_type": "code",
   "execution_count": 6,
   "metadata": {
    "id": "xQU7JTZ_9hE0"
   },
   "outputs": [],
   "source": [
    "X_train, X_test, y_train, y_test = train_test_split(X_dataset, y_dataset, train_size=0.75, random_state=RANDOM_SEED)"
   ]
  },
  {
   "cell_type": "markdown",
   "metadata": {
    "id": "mxK_lETT9hE0"
   },
   "source": [
    "# Model building"
   ]
  },
  {
   "cell_type": "code",
   "execution_count": 7,
   "metadata": {
    "id": "vHBmUf1t9hE1"
   },
   "outputs": [],
   "source": [
    "model = tf.keras.models.Sequential([\n",
    "    tf.keras.layers.Input((42 * 2, )),\n",
    "    tf.keras.layers.Dropout(0.2),\n",
    "    tf.keras.layers.Dense(20, activation='relu'),\n",
    "    tf.keras.layers.Dropout(0.4),\n",
    "    tf.keras.layers.Dense(10, activation='relu'),\n",
    "    tf.keras.layers.Dense(NUM_CLASSES, activation='softmax')\n",
    "])"
   ]
  },
  {
   "cell_type": "code",
   "execution_count": 8,
   "metadata": {
    "colab": {
     "base_uri": "https://localhost:8080/"
    },
    "id": "ypqky9tc9hE1",
    "outputId": "5db082bb-30e3-4110-bf63-a1ee777ecd46"
   },
   "outputs": [
    {
     "name": "stdout",
     "output_type": "stream",
     "text": [
      "Model: \"sequential\"\n",
      "_________________________________________________________________\n",
      " Layer (type)                Output Shape              Param #   \n",
      "=================================================================\n",
      " dropout (Dropout)           (None, 84)                0         \n",
      "                                                                 \n",
      " dense (Dense)               (None, 20)                1700      \n",
      "                                                                 \n",
      " dropout_1 (Dropout)         (None, 20)                0         \n",
      "                                                                 \n",
      " dense_1 (Dense)             (None, 10)                210       \n",
      "                                                                 \n",
      " dense_2 (Dense)             (None, 4)                 44        \n",
      "                                                                 \n",
      "=================================================================\n",
      "Total params: 1,954\n",
      "Trainable params: 1,954\n",
      "Non-trainable params: 0\n",
      "_________________________________________________________________\n"
     ]
    }
   ],
   "source": [
    "model.summary()  # tf.keras.utils.plot_model(model, show_shapes=True)"
   ]
  },
  {
   "cell_type": "code",
   "execution_count": 9,
   "metadata": {
    "id": "MbMjOflQ9hE1"
   },
   "outputs": [],
   "source": [
    "# Model checkpoint callback\n",
    "cp_callback = tf.keras.callbacks.ModelCheckpoint(\n",
    "    model_save_path, verbose=1, save_weights_only=False)\n",
    "# Callback for early stopping\n",
    "es_callback = tf.keras.callbacks.EarlyStopping(patience=20, verbose=1)"
   ]
  },
  {
   "cell_type": "code",
   "execution_count": 10,
   "metadata": {
    "id": "c3Dac0M_9hE2"
   },
   "outputs": [],
   "source": [
    "# Model compilation\n",
    "model.compile(\n",
    "    optimizer='adam',\n",
    "    loss='sparse_categorical_crossentropy',\n",
    "    metrics=['accuracy']\n",
    ")"
   ]
  },
  {
   "cell_type": "markdown",
   "metadata": {
    "id": "7XI0j1Iu9hE2"
   },
   "source": [
    "# Model training"
   ]
  },
  {
   "cell_type": "code",
   "execution_count": 11,
   "metadata": {
    "colab": {
     "base_uri": "https://localhost:8080/"
    },
    "id": "WirBl-JE9hE3",
    "outputId": "71b30ca2-8294-4d9d-8aa2-800d90d399de",
    "scrolled": true
   },
   "outputs": [
    {
     "name": "stdout",
     "output_type": "stream",
     "text": [
      "Epoch 1/1000\n",
      "1/1 [==============================] - ETA: 0s - loss: 1.3828 - accuracy: 0.2500\n",
      "Epoch 1: saving model to model/keypoint_classifier\\keypoint_classifier.hdf5\n",
      "1/1 [==============================] - 1s 967ms/step - loss: 1.3828 - accuracy: 0.2500 - val_loss: 1.4688 - val_accuracy: 0.0000e+00\n",
      "Epoch 2/1000\n",
      "1/1 [==============================] - ETA: 0s - loss: 1.3804 - accuracy: 0.2222\n",
      "Epoch 2: saving model to model/keypoint_classifier\\keypoint_classifier.hdf5\n",
      "1/1 [==============================] - 0s 58ms/step - loss: 1.3804 - accuracy: 0.2222 - val_loss: 1.4587 - val_accuracy: 0.0000e+00\n",
      "Epoch 3/1000\n",
      "1/1 [==============================] - ETA: 0s - loss: 1.3662 - accuracy: 0.2778\n",
      "Epoch 3: saving model to model/keypoint_classifier\\keypoint_classifier.hdf5\n",
      "1/1 [==============================] - 0s 55ms/step - loss: 1.3662 - accuracy: 0.2778 - val_loss: 1.4480 - val_accuracy: 0.0000e+00\n",
      "Epoch 4/1000\n",
      "1/1 [==============================] - ETA: 0s - loss: 1.3736 - accuracy: 0.2778\n",
      "Epoch 4: saving model to model/keypoint_classifier\\keypoint_classifier.hdf5\n",
      "1/1 [==============================] - 0s 55ms/step - loss: 1.3736 - accuracy: 0.2778 - val_loss: 1.4358 - val_accuracy: 0.0000e+00\n",
      "Epoch 5/1000\n",
      "1/1 [==============================] - ETA: 0s - loss: 1.3575 - accuracy: 0.3333\n",
      "Epoch 5: saving model to model/keypoint_classifier\\keypoint_classifier.hdf5\n",
      "1/1 [==============================] - 0s 53ms/step - loss: 1.3575 - accuracy: 0.3333 - val_loss: 1.4240 - val_accuracy: 0.0000e+00\n",
      "Epoch 6/1000\n",
      "1/1 [==============================] - ETA: 0s - loss: 1.3732 - accuracy: 0.2778\n",
      "Epoch 6: saving model to model/keypoint_classifier\\keypoint_classifier.hdf5\n",
      "1/1 [==============================] - 0s 138ms/step - loss: 1.3732 - accuracy: 0.2778 - val_loss: 1.4116 - val_accuracy: 0.0000e+00\n",
      "Epoch 7/1000\n",
      "1/1 [==============================] - ETA: 0s - loss: 1.3708 - accuracy: 0.3056\n",
      "Epoch 7: saving model to model/keypoint_classifier\\keypoint_classifier.hdf5\n",
      "1/1 [==============================] - 0s 52ms/step - loss: 1.3708 - accuracy: 0.3056 - val_loss: 1.3996 - val_accuracy: 0.0000e+00\n",
      "Epoch 8/1000\n",
      "1/1 [==============================] - ETA: 0s - loss: 1.4009 - accuracy: 0.2222\n",
      "Epoch 8: saving model to model/keypoint_classifier\\keypoint_classifier.hdf5\n",
      "1/1 [==============================] - 0s 58ms/step - loss: 1.4009 - accuracy: 0.2222 - val_loss: 1.3893 - val_accuracy: 0.0000e+00\n",
      "Epoch 9/1000\n",
      "1/1 [==============================] - ETA: 0s - loss: 1.3795 - accuracy: 0.2778\n",
      "Epoch 9: saving model to model/keypoint_classifier\\keypoint_classifier.hdf5\n",
      "1/1 [==============================] - 0s 57ms/step - loss: 1.3795 - accuracy: 0.2778 - val_loss: 1.3802 - val_accuracy: 0.1667\n",
      "Epoch 10/1000\n",
      "1/1 [==============================] - ETA: 0s - loss: 1.3719 - accuracy: 0.2500\n",
      "Epoch 10: saving model to model/keypoint_classifier\\keypoint_classifier.hdf5\n",
      "1/1 [==============================] - 0s 63ms/step - loss: 1.3719 - accuracy: 0.2500 - val_loss: 1.3714 - val_accuracy: 0.2500\n",
      "Epoch 11/1000\n",
      "1/1 [==============================] - ETA: 0s - loss: 1.3606 - accuracy: 0.3056\n",
      "Epoch 11: saving model to model/keypoint_classifier\\keypoint_classifier.hdf5\n",
      "1/1 [==============================] - 0s 73ms/step - loss: 1.3606 - accuracy: 0.3056 - val_loss: 1.3625 - val_accuracy: 0.2500\n",
      "Epoch 12/1000\n",
      "1/1 [==============================] - ETA: 0s - loss: 1.2992 - accuracy: 0.3611\n",
      "Epoch 12: saving model to model/keypoint_classifier\\keypoint_classifier.hdf5\n",
      "1/1 [==============================] - 0s 61ms/step - loss: 1.2992 - accuracy: 0.3611 - val_loss: 1.3530 - val_accuracy: 0.2500\n",
      "Epoch 13/1000\n",
      "1/1 [==============================] - ETA: 0s - loss: 1.2799 - accuracy: 0.3889\n",
      "Epoch 13: saving model to model/keypoint_classifier\\keypoint_classifier.hdf5\n",
      "1/1 [==============================] - 0s 64ms/step - loss: 1.2799 - accuracy: 0.3889 - val_loss: 1.3438 - val_accuracy: 0.2500\n",
      "Epoch 14/1000\n",
      "1/1 [==============================] - ETA: 0s - loss: 1.3551 - accuracy: 0.4167\n",
      "Epoch 14: saving model to model/keypoint_classifier\\keypoint_classifier.hdf5\n",
      "1/1 [==============================] - 0s 55ms/step - loss: 1.3551 - accuracy: 0.4167 - val_loss: 1.3346 - val_accuracy: 0.2500\n",
      "Epoch 15/1000\n",
      "1/1 [==============================] - ETA: 0s - loss: 1.3299 - accuracy: 0.3333\n",
      "Epoch 15: saving model to model/keypoint_classifier\\keypoint_classifier.hdf5\n",
      "1/1 [==============================] - 0s 53ms/step - loss: 1.3299 - accuracy: 0.3333 - val_loss: 1.3257 - val_accuracy: 0.2500\n",
      "Epoch 16/1000\n",
      "1/1 [==============================] - ETA: 0s - loss: 1.3459 - accuracy: 0.3611\n",
      "Epoch 16: saving model to model/keypoint_classifier\\keypoint_classifier.hdf5\n",
      "1/1 [==============================] - 0s 49ms/step - loss: 1.3459 - accuracy: 0.3611 - val_loss: 1.3170 - val_accuracy: 0.2500\n",
      "Epoch 17/1000\n",
      "1/1 [==============================] - ETA: 0s - loss: 1.2999 - accuracy: 0.4444\n",
      "Epoch 17: saving model to model/keypoint_classifier\\keypoint_classifier.hdf5\n",
      "1/1 [==============================] - 0s 53ms/step - loss: 1.2999 - accuracy: 0.4444 - val_loss: 1.3089 - val_accuracy: 0.2500\n",
      "Epoch 18/1000\n",
      "1/1 [==============================] - ETA: 0s - loss: 1.2772 - accuracy: 0.5000\n",
      "Epoch 18: saving model to model/keypoint_classifier\\keypoint_classifier.hdf5\n",
      "1/1 [==============================] - 0s 56ms/step - loss: 1.2772 - accuracy: 0.5000 - val_loss: 1.3008 - val_accuracy: 0.2500\n",
      "Epoch 19/1000\n",
      "1/1 [==============================] - ETA: 0s - loss: 1.2994 - accuracy: 0.3889\n",
      "Epoch 19: saving model to model/keypoint_classifier\\keypoint_classifier.hdf5\n",
      "1/1 [==============================] - 0s 55ms/step - loss: 1.2994 - accuracy: 0.3889 - val_loss: 1.2936 - val_accuracy: 0.2500\n",
      "Epoch 20/1000\n",
      "1/1 [==============================] - ETA: 0s - loss: 1.3430 - accuracy: 0.3611\n",
      "Epoch 20: saving model to model/keypoint_classifier\\keypoint_classifier.hdf5\n",
      "1/1 [==============================] - 0s 68ms/step - loss: 1.3430 - accuracy: 0.3611 - val_loss: 1.2873 - val_accuracy: 0.2500\n",
      "Epoch 21/1000\n",
      "1/1 [==============================] - ETA: 0s - loss: 1.2924 - accuracy: 0.3889\n",
      "Epoch 21: saving model to model/keypoint_classifier\\keypoint_classifier.hdf5\n",
      "1/1 [==============================] - 0s 59ms/step - loss: 1.2924 - accuracy: 0.3889 - val_loss: 1.2809 - val_accuracy: 0.2500\n",
      "Epoch 22/1000\n",
      "1/1 [==============================] - ETA: 0s - loss: 1.3263 - accuracy: 0.4167\n",
      "Epoch 22: saving model to model/keypoint_classifier\\keypoint_classifier.hdf5\n",
      "1/1 [==============================] - 0s 60ms/step - loss: 1.3263 - accuracy: 0.4167 - val_loss: 1.2743 - val_accuracy: 0.2500\n",
      "Epoch 23/1000\n",
      "1/1 [==============================] - ETA: 0s - loss: 1.2700 - accuracy: 0.3889\n",
      "Epoch 23: saving model to model/keypoint_classifier\\keypoint_classifier.hdf5\n",
      "1/1 [==============================] - 0s 134ms/step - loss: 1.2700 - accuracy: 0.3889 - val_loss: 1.2676 - val_accuracy: 0.2500\n",
      "Epoch 24/1000\n",
      "1/1 [==============================] - ETA: 0s - loss: 1.3050 - accuracy: 0.5000\n",
      "Epoch 24: saving model to model/keypoint_classifier\\keypoint_classifier.hdf5\n",
      "1/1 [==============================] - 0s 139ms/step - loss: 1.3050 - accuracy: 0.5000 - val_loss: 1.2607 - val_accuracy: 0.2500\n",
      "Epoch 25/1000\n",
      "1/1 [==============================] - ETA: 0s - loss: 1.2947 - accuracy: 0.3333\n",
      "Epoch 25: saving model to model/keypoint_classifier\\keypoint_classifier.hdf5\n",
      "1/1 [==============================] - 0s 88ms/step - loss: 1.2947 - accuracy: 0.3333 - val_loss: 1.2542 - val_accuracy: 0.2500\n",
      "Epoch 26/1000\n",
      "1/1 [==============================] - ETA: 0s - loss: 1.2426 - accuracy: 0.4722\n",
      "Epoch 26: saving model to model/keypoint_classifier\\keypoint_classifier.hdf5\n",
      "1/1 [==============================] - 0s 66ms/step - loss: 1.2426 - accuracy: 0.4722 - val_loss: 1.2475 - val_accuracy: 0.2500\n",
      "Epoch 27/1000\n",
      "1/1 [==============================] - ETA: 0s - loss: 1.2493 - accuracy: 0.4167\n",
      "Epoch 27: saving model to model/keypoint_classifier\\keypoint_classifier.hdf5\n",
      "1/1 [==============================] - 0s 69ms/step - loss: 1.2493 - accuracy: 0.4167 - val_loss: 1.2407 - val_accuracy: 0.2500\n",
      "Epoch 28/1000\n"
     ]
    },
    {
     "name": "stdout",
     "output_type": "stream",
     "text": [
      "1/1 [==============================] - ETA: 0s - loss: 1.2396 - accuracy: 0.3889\n",
      "Epoch 28: saving model to model/keypoint_classifier\\keypoint_classifier.hdf5\n",
      "1/1 [==============================] - 0s 84ms/step - loss: 1.2396 - accuracy: 0.3889 - val_loss: 1.2339 - val_accuracy: 0.2500\n",
      "Epoch 29/1000\n",
      "1/1 [==============================] - ETA: 0s - loss: 1.2433 - accuracy: 0.4167\n",
      "Epoch 29: saving model to model/keypoint_classifier\\keypoint_classifier.hdf5\n",
      "1/1 [==============================] - 0s 66ms/step - loss: 1.2433 - accuracy: 0.4167 - val_loss: 1.2272 - val_accuracy: 0.2500\n",
      "Epoch 30/1000\n",
      "1/1 [==============================] - ETA: 0s - loss: 1.2142 - accuracy: 0.5833\n",
      "Epoch 30: saving model to model/keypoint_classifier\\keypoint_classifier.hdf5\n",
      "1/1 [==============================] - 0s 59ms/step - loss: 1.2142 - accuracy: 0.5833 - val_loss: 1.2208 - val_accuracy: 0.2500\n",
      "Epoch 31/1000\n",
      "1/1 [==============================] - ETA: 0s - loss: 1.2249 - accuracy: 0.5000\n",
      "Epoch 31: saving model to model/keypoint_classifier\\keypoint_classifier.hdf5\n",
      "1/1 [==============================] - 0s 50ms/step - loss: 1.2249 - accuracy: 0.5000 - val_loss: 1.2149 - val_accuracy: 0.2500\n",
      "Epoch 32/1000\n",
      "1/1 [==============================] - ETA: 0s - loss: 1.2154 - accuracy: 0.4167\n",
      "Epoch 32: saving model to model/keypoint_classifier\\keypoint_classifier.hdf5\n",
      "1/1 [==============================] - 0s 53ms/step - loss: 1.2154 - accuracy: 0.4167 - val_loss: 1.2095 - val_accuracy: 0.2500\n",
      "Epoch 33/1000\n",
      "1/1 [==============================] - ETA: 0s - loss: 1.2190 - accuracy: 0.4722\n",
      "Epoch 33: saving model to model/keypoint_classifier\\keypoint_classifier.hdf5\n",
      "1/1 [==============================] - 0s 49ms/step - loss: 1.2190 - accuracy: 0.4722 - val_loss: 1.2041 - val_accuracy: 0.2500\n",
      "Epoch 34/1000\n",
      "1/1 [==============================] - ETA: 0s - loss: 1.2353 - accuracy: 0.4444\n",
      "Epoch 34: saving model to model/keypoint_classifier\\keypoint_classifier.hdf5\n",
      "1/1 [==============================] - 0s 53ms/step - loss: 1.2353 - accuracy: 0.4444 - val_loss: 1.1990 - val_accuracy: 0.2500\n",
      "Epoch 35/1000\n",
      "1/1 [==============================] - ETA: 0s - loss: 1.2152 - accuracy: 0.4444\n",
      "Epoch 35: saving model to model/keypoint_classifier\\keypoint_classifier.hdf5\n",
      "1/1 [==============================] - 0s 57ms/step - loss: 1.2152 - accuracy: 0.4444 - val_loss: 1.1939 - val_accuracy: 0.2500\n",
      "Epoch 36/1000\n",
      "1/1 [==============================] - ETA: 0s - loss: 1.1929 - accuracy: 0.5556\n",
      "Epoch 36: saving model to model/keypoint_classifier\\keypoint_classifier.hdf5\n",
      "1/1 [==============================] - 0s 54ms/step - loss: 1.1929 - accuracy: 0.5556 - val_loss: 1.1887 - val_accuracy: 0.2500\n",
      "Epoch 37/1000\n",
      "1/1 [==============================] - ETA: 0s - loss: 1.1667 - accuracy: 0.4722\n",
      "Epoch 37: saving model to model/keypoint_classifier\\keypoint_classifier.hdf5\n",
      "1/1 [==============================] - 0s 52ms/step - loss: 1.1667 - accuracy: 0.4722 - val_loss: 1.1829 - val_accuracy: 0.2500\n",
      "Epoch 38/1000\n",
      "1/1 [==============================] - ETA: 0s - loss: 1.1857 - accuracy: 0.5278\n",
      "Epoch 38: saving model to model/keypoint_classifier\\keypoint_classifier.hdf5\n",
      "1/1 [==============================] - 0s 47ms/step - loss: 1.1857 - accuracy: 0.5278 - val_loss: 1.1767 - val_accuracy: 0.2500\n",
      "Epoch 39/1000\n",
      "1/1 [==============================] - ETA: 0s - loss: 1.1883 - accuracy: 0.4444\n",
      "Epoch 39: saving model to model/keypoint_classifier\\keypoint_classifier.hdf5\n",
      "1/1 [==============================] - 0s 52ms/step - loss: 1.1883 - accuracy: 0.4444 - val_loss: 1.1705 - val_accuracy: 0.2500\n",
      "Epoch 40/1000\n",
      "1/1 [==============================] - ETA: 0s - loss: 1.1827 - accuracy: 0.5000\n",
      "Epoch 40: saving model to model/keypoint_classifier\\keypoint_classifier.hdf5\n",
      "1/1 [==============================] - 0s 51ms/step - loss: 1.1827 - accuracy: 0.5000 - val_loss: 1.1641 - val_accuracy: 0.2500\n",
      "Epoch 41/1000\n",
      "1/1 [==============================] - ETA: 0s - loss: 1.2287 - accuracy: 0.3611\n",
      "Epoch 41: saving model to model/keypoint_classifier\\keypoint_classifier.hdf5\n",
      "1/1 [==============================] - 0s 49ms/step - loss: 1.2287 - accuracy: 0.3611 - val_loss: 1.1577 - val_accuracy: 0.2500\n",
      "Epoch 42/1000\n",
      "1/1 [==============================] - ETA: 0s - loss: 1.1248 - accuracy: 0.5278\n",
      "Epoch 42: saving model to model/keypoint_classifier\\keypoint_classifier.hdf5\n",
      "1/1 [==============================] - 0s 47ms/step - loss: 1.1248 - accuracy: 0.5278 - val_loss: 1.1516 - val_accuracy: 0.2500\n",
      "Epoch 43/1000\n",
      "1/1 [==============================] - ETA: 0s - loss: 1.1411 - accuracy: 0.4444\n",
      "Epoch 43: saving model to model/keypoint_classifier\\keypoint_classifier.hdf5\n",
      "1/1 [==============================] - 0s 53ms/step - loss: 1.1411 - accuracy: 0.4444 - val_loss: 1.1456 - val_accuracy: 0.2500\n",
      "Epoch 44/1000\n",
      "1/1 [==============================] - ETA: 0s - loss: 1.1843 - accuracy: 0.4167\n",
      "Epoch 44: saving model to model/keypoint_classifier\\keypoint_classifier.hdf5\n",
      "1/1 [==============================] - 0s 48ms/step - loss: 1.1843 - accuracy: 0.4167 - val_loss: 1.1392 - val_accuracy: 0.2500\n",
      "Epoch 45/1000\n",
      "1/1 [==============================] - ETA: 0s - loss: 1.1743 - accuracy: 0.4722\n",
      "Epoch 45: saving model to model/keypoint_classifier\\keypoint_classifier.hdf5\n",
      "1/1 [==============================] - 0s 60ms/step - loss: 1.1743 - accuracy: 0.4722 - val_loss: 1.1330 - val_accuracy: 0.2500\n",
      "Epoch 46/1000\n",
      "1/1 [==============================] - ETA: 0s - loss: 1.1601 - accuracy: 0.4167\n",
      "Epoch 46: saving model to model/keypoint_classifier\\keypoint_classifier.hdf5\n",
      "1/1 [==============================] - 0s 61ms/step - loss: 1.1601 - accuracy: 0.4167 - val_loss: 1.1269 - val_accuracy: 0.2500\n",
      "Epoch 47/1000\n",
      "1/1 [==============================] - ETA: 0s - loss: 1.1573 - accuracy: 0.4167\n",
      "Epoch 47: saving model to model/keypoint_classifier\\keypoint_classifier.hdf5\n",
      "1/1 [==============================] - 0s 62ms/step - loss: 1.1573 - accuracy: 0.4167 - val_loss: 1.1207 - val_accuracy: 0.2500\n",
      "Epoch 48/1000\n",
      "1/1 [==============================] - ETA: 0s - loss: 1.1721 - accuracy: 0.4167\n",
      "Epoch 48: saving model to model/keypoint_classifier\\keypoint_classifier.hdf5\n",
      "1/1 [==============================] - 0s 70ms/step - loss: 1.1721 - accuracy: 0.4167 - val_loss: 1.1144 - val_accuracy: 0.2500\n",
      "Epoch 49/1000\n",
      "1/1 [==============================] - ETA: 0s - loss: 1.1626 - accuracy: 0.4722\n",
      "Epoch 49: saving model to model/keypoint_classifier\\keypoint_classifier.hdf5\n",
      "1/1 [==============================] - 0s 49ms/step - loss: 1.1626 - accuracy: 0.4722 - val_loss: 1.1078 - val_accuracy: 0.2500\n",
      "Epoch 50/1000\n",
      "1/1 [==============================] - ETA: 0s - loss: 1.1724 - accuracy: 0.4722\n",
      "Epoch 50: saving model to model/keypoint_classifier\\keypoint_classifier.hdf5\n",
      "1/1 [==============================] - 0s 52ms/step - loss: 1.1724 - accuracy: 0.4722 - val_loss: 1.1011 - val_accuracy: 0.2500\n",
      "Epoch 51/1000\n",
      "1/1 [==============================] - ETA: 0s - loss: 1.0997 - accuracy: 0.4722\n",
      "Epoch 51: saving model to model/keypoint_classifier\\keypoint_classifier.hdf5\n",
      "1/1 [==============================] - 0s 49ms/step - loss: 1.0997 - accuracy: 0.4722 - val_loss: 1.0942 - val_accuracy: 0.2500\n",
      "Epoch 52/1000\n",
      "1/1 [==============================] - ETA: 0s - loss: 1.1068 - accuracy: 0.5000\n",
      "Epoch 52: saving model to model/keypoint_classifier\\keypoint_classifier.hdf5\n",
      "1/1 [==============================] - 0s 49ms/step - loss: 1.1068 - accuracy: 0.5000 - val_loss: 1.0874 - val_accuracy: 0.2500\n",
      "Epoch 53/1000\n",
      "1/1 [==============================] - ETA: 0s - loss: 1.1633 - accuracy: 0.4167\n",
      "Epoch 53: saving model to model/keypoint_classifier\\keypoint_classifier.hdf5\n",
      "1/1 [==============================] - 0s 50ms/step - loss: 1.1633 - accuracy: 0.4167 - val_loss: 1.0807 - val_accuracy: 0.2500\n",
      "Epoch 54/1000\n",
      "1/1 [==============================] - ETA: 0s - loss: 1.0959 - accuracy: 0.4722\n",
      "Epoch 54: saving model to model/keypoint_classifier\\keypoint_classifier.hdf5\n",
      "1/1 [==============================] - 0s 48ms/step - loss: 1.0959 - accuracy: 0.4722 - val_loss: 1.0740 - val_accuracy: 0.2500\n",
      "Epoch 55/1000\n",
      "1/1 [==============================] - ETA: 0s - loss: 1.0895 - accuracy: 0.4722\n",
      "Epoch 55: saving model to model/keypoint_classifier\\keypoint_classifier.hdf5\n"
     ]
    },
    {
     "name": "stdout",
     "output_type": "stream",
     "text": [
      "1/1 [==============================] - 0s 48ms/step - loss: 1.0895 - accuracy: 0.4722 - val_loss: 1.0674 - val_accuracy: 0.2500\n",
      "Epoch 56/1000\n",
      "1/1 [==============================] - ETA: 0s - loss: 1.0393 - accuracy: 0.5000\n",
      "Epoch 56: saving model to model/keypoint_classifier\\keypoint_classifier.hdf5\n",
      "1/1 [==============================] - 0s 54ms/step - loss: 1.0393 - accuracy: 0.5000 - val_loss: 1.0608 - val_accuracy: 0.2500\n",
      "Epoch 57/1000\n",
      "1/1 [==============================] - ETA: 0s - loss: 1.0572 - accuracy: 0.5556\n",
      "Epoch 57: saving model to model/keypoint_classifier\\keypoint_classifier.hdf5\n",
      "1/1 [==============================] - 0s 68ms/step - loss: 1.0572 - accuracy: 0.5556 - val_loss: 1.0545 - val_accuracy: 0.2500\n",
      "Epoch 58/1000\n",
      "1/1 [==============================] - ETA: 0s - loss: 1.0643 - accuracy: 0.6111\n",
      "Epoch 58: saving model to model/keypoint_classifier\\keypoint_classifier.hdf5\n",
      "1/1 [==============================] - 0s 65ms/step - loss: 1.0643 - accuracy: 0.6111 - val_loss: 1.0484 - val_accuracy: 0.2500\n",
      "Epoch 59/1000\n",
      "1/1 [==============================] - ETA: 0s - loss: 1.0696 - accuracy: 0.5000\n",
      "Epoch 59: saving model to model/keypoint_classifier\\keypoint_classifier.hdf5\n",
      "1/1 [==============================] - 0s 53ms/step - loss: 1.0696 - accuracy: 0.5000 - val_loss: 1.0422 - val_accuracy: 0.2500\n",
      "Epoch 60/1000\n",
      "1/1 [==============================] - ETA: 0s - loss: 1.1149 - accuracy: 0.4444\n",
      "Epoch 60: saving model to model/keypoint_classifier\\keypoint_classifier.hdf5\n",
      "1/1 [==============================] - 0s 48ms/step - loss: 1.1149 - accuracy: 0.4444 - val_loss: 1.0358 - val_accuracy: 0.2500\n",
      "Epoch 61/1000\n",
      "1/1 [==============================] - ETA: 0s - loss: 1.0687 - accuracy: 0.5000\n",
      "Epoch 61: saving model to model/keypoint_classifier\\keypoint_classifier.hdf5\n",
      "1/1 [==============================] - 0s 60ms/step - loss: 1.0687 - accuracy: 0.5000 - val_loss: 1.0299 - val_accuracy: 0.2500\n",
      "Epoch 62/1000\n",
      "1/1 [==============================] - ETA: 0s - loss: 1.0942 - accuracy: 0.4444\n",
      "Epoch 62: saving model to model/keypoint_classifier\\keypoint_classifier.hdf5\n",
      "1/1 [==============================] - 0s 52ms/step - loss: 1.0942 - accuracy: 0.4444 - val_loss: 1.0242 - val_accuracy: 0.2500\n",
      "Epoch 63/1000\n",
      "1/1 [==============================] - ETA: 0s - loss: 1.0383 - accuracy: 0.4722\n",
      "Epoch 63: saving model to model/keypoint_classifier\\keypoint_classifier.hdf5\n",
      "1/1 [==============================] - 0s 49ms/step - loss: 1.0383 - accuracy: 0.4722 - val_loss: 1.0188 - val_accuracy: 0.2500\n",
      "Epoch 64/1000\n",
      "1/1 [==============================] - ETA: 0s - loss: 1.1112 - accuracy: 0.4444\n",
      "Epoch 64: saving model to model/keypoint_classifier\\keypoint_classifier.hdf5\n",
      "1/1 [==============================] - 0s 50ms/step - loss: 1.1112 - accuracy: 0.4444 - val_loss: 1.0137 - val_accuracy: 0.2500\n",
      "Epoch 65/1000\n",
      "1/1 [==============================] - ETA: 0s - loss: 1.0507 - accuracy: 0.4444\n",
      "Epoch 65: saving model to model/keypoint_classifier\\keypoint_classifier.hdf5\n",
      "1/1 [==============================] - 0s 54ms/step - loss: 1.0507 - accuracy: 0.4444 - val_loss: 1.0088 - val_accuracy: 0.2500\n",
      "Epoch 66/1000\n",
      "1/1 [==============================] - ETA: 0s - loss: 0.9742 - accuracy: 0.5000\n",
      "Epoch 66: saving model to model/keypoint_classifier\\keypoint_classifier.hdf5\n",
      "1/1 [==============================] - 0s 107ms/step - loss: 0.9742 - accuracy: 0.5000 - val_loss: 1.0038 - val_accuracy: 0.2500\n",
      "Epoch 67/1000\n",
      "1/1 [==============================] - ETA: 0s - loss: 1.0227 - accuracy: 0.4444\n",
      "Epoch 67: saving model to model/keypoint_classifier\\keypoint_classifier.hdf5\n",
      "1/1 [==============================] - 0s 88ms/step - loss: 1.0227 - accuracy: 0.4444 - val_loss: 0.9985 - val_accuracy: 0.2500\n",
      "Epoch 68/1000\n",
      "1/1 [==============================] - ETA: 0s - loss: 0.9611 - accuracy: 0.4444\n",
      "Epoch 68: saving model to model/keypoint_classifier\\keypoint_classifier.hdf5\n",
      "1/1 [==============================] - 0s 58ms/step - loss: 0.9611 - accuracy: 0.4444 - val_loss: 0.9930 - val_accuracy: 0.2500\n",
      "Epoch 69/1000\n",
      "1/1 [==============================] - ETA: 0s - loss: 1.0744 - accuracy: 0.4722\n",
      "Epoch 69: saving model to model/keypoint_classifier\\keypoint_classifier.hdf5\n",
      "1/1 [==============================] - 0s 53ms/step - loss: 1.0744 - accuracy: 0.4722 - val_loss: 0.9869 - val_accuracy: 0.2500\n",
      "Epoch 70/1000\n",
      "1/1 [==============================] - ETA: 0s - loss: 0.9977 - accuracy: 0.4722\n",
      "Epoch 70: saving model to model/keypoint_classifier\\keypoint_classifier.hdf5\n",
      "1/1 [==============================] - 0s 51ms/step - loss: 0.9977 - accuracy: 0.4722 - val_loss: 0.9816 - val_accuracy: 0.2500\n",
      "Epoch 71/1000\n",
      "1/1 [==============================] - ETA: 0s - loss: 0.9657 - accuracy: 0.5833\n",
      "Epoch 71: saving model to model/keypoint_classifier\\keypoint_classifier.hdf5\n",
      "1/1 [==============================] - 0s 52ms/step - loss: 0.9657 - accuracy: 0.5833 - val_loss: 0.9761 - val_accuracy: 0.2500\n",
      "Epoch 72/1000\n",
      "1/1 [==============================] - ETA: 0s - loss: 1.1505 - accuracy: 0.4167\n",
      "Epoch 72: saving model to model/keypoint_classifier\\keypoint_classifier.hdf5\n",
      "1/1 [==============================] - 0s 46ms/step - loss: 1.1505 - accuracy: 0.4167 - val_loss: 0.9715 - val_accuracy: 0.2500\n",
      "Epoch 73/1000\n",
      "1/1 [==============================] - ETA: 0s - loss: 0.9826 - accuracy: 0.5278\n",
      "Epoch 73: saving model to model/keypoint_classifier\\keypoint_classifier.hdf5\n",
      "1/1 [==============================] - 0s 46ms/step - loss: 0.9826 - accuracy: 0.5278 - val_loss: 0.9667 - val_accuracy: 0.2500\n",
      "Epoch 74/1000\n",
      "1/1 [==============================] - ETA: 0s - loss: 1.0061 - accuracy: 0.5278\n",
      "Epoch 74: saving model to model/keypoint_classifier\\keypoint_classifier.hdf5\n",
      "1/1 [==============================] - 0s 46ms/step - loss: 1.0061 - accuracy: 0.5278 - val_loss: 0.9621 - val_accuracy: 0.2500\n",
      "Epoch 75/1000\n",
      "1/1 [==============================] - ETA: 0s - loss: 0.9857 - accuracy: 0.5278\n",
      "Epoch 75: saving model to model/keypoint_classifier\\keypoint_classifier.hdf5\n",
      "1/1 [==============================] - 0s 45ms/step - loss: 0.9857 - accuracy: 0.5278 - val_loss: 0.9574 - val_accuracy: 0.2500\n",
      "Epoch 76/1000\n",
      "1/1 [==============================] - ETA: 0s - loss: 0.8947 - accuracy: 0.5556\n",
      "Epoch 76: saving model to model/keypoint_classifier\\keypoint_classifier.hdf5\n",
      "1/1 [==============================] - 0s 48ms/step - loss: 0.8947 - accuracy: 0.5556 - val_loss: 0.9524 - val_accuracy: 0.2500\n",
      "Epoch 77/1000\n",
      "1/1 [==============================] - ETA: 0s - loss: 1.0162 - accuracy: 0.5000\n",
      "Epoch 77: saving model to model/keypoint_classifier\\keypoint_classifier.hdf5\n",
      "1/1 [==============================] - 0s 47ms/step - loss: 1.0162 - accuracy: 0.5000 - val_loss: 0.9476 - val_accuracy: 0.2500\n",
      "Epoch 78/1000\n",
      "1/1 [==============================] - ETA: 0s - loss: 0.9956 - accuracy: 0.4722\n",
      "Epoch 78: saving model to model/keypoint_classifier\\keypoint_classifier.hdf5\n",
      "1/1 [==============================] - 0s 50ms/step - loss: 0.9956 - accuracy: 0.4722 - val_loss: 0.9420 - val_accuracy: 0.3333\n",
      "Epoch 79/1000\n",
      "1/1 [==============================] - ETA: 0s - loss: 0.9095 - accuracy: 0.4167\n",
      "Epoch 79: saving model to model/keypoint_classifier\\keypoint_classifier.hdf5\n",
      "1/1 [==============================] - 0s 50ms/step - loss: 0.9095 - accuracy: 0.4167 - val_loss: 0.9366 - val_accuracy: 0.4167\n",
      "Epoch 80/1000\n",
      "1/1 [==============================] - ETA: 0s - loss: 0.9306 - accuracy: 0.5278\n",
      "Epoch 80: saving model to model/keypoint_classifier\\keypoint_classifier.hdf5\n",
      "1/1 [==============================] - 0s 52ms/step - loss: 0.9306 - accuracy: 0.5278 - val_loss: 0.9317 - val_accuracy: 0.4167\n",
      "Epoch 81/1000\n",
      "1/1 [==============================] - ETA: 0s - loss: 0.9554 - accuracy: 0.4722\n",
      "Epoch 81: saving model to model/keypoint_classifier\\keypoint_classifier.hdf5\n",
      "1/1 [==============================] - 0s 60ms/step - loss: 0.9554 - accuracy: 0.4722 - val_loss: 0.9264 - val_accuracy: 0.4167\n",
      "Epoch 82/1000\n",
      "1/1 [==============================] - ETA: 0s - loss: 0.8986 - accuracy: 0.5278\n",
      "Epoch 82: saving model to model/keypoint_classifier\\keypoint_classifier.hdf5\n",
      "1/1 [==============================] - 0s 56ms/step - loss: 0.8986 - accuracy: 0.5278 - val_loss: 0.9200 - val_accuracy: 0.5000\n"
     ]
    },
    {
     "name": "stdout",
     "output_type": "stream",
     "text": [
      "Epoch 83/1000\n",
      "1/1 [==============================] - ETA: 0s - loss: 0.9195 - accuracy: 0.5556\n",
      "Epoch 83: saving model to model/keypoint_classifier\\keypoint_classifier.hdf5\n",
      "1/1 [==============================] - 0s 89ms/step - loss: 0.9195 - accuracy: 0.5556 - val_loss: 0.9125 - val_accuracy: 0.5000\n",
      "Epoch 84/1000\n",
      "1/1 [==============================] - ETA: 0s - loss: 0.9414 - accuracy: 0.4444\n",
      "Epoch 84: saving model to model/keypoint_classifier\\keypoint_classifier.hdf5\n",
      "1/1 [==============================] - 0s 51ms/step - loss: 0.9414 - accuracy: 0.4444 - val_loss: 0.9052 - val_accuracy: 0.5833\n",
      "Epoch 85/1000\n",
      "1/1 [==============================] - ETA: 0s - loss: 0.9606 - accuracy: 0.4167\n",
      "Epoch 85: saving model to model/keypoint_classifier\\keypoint_classifier.hdf5\n",
      "1/1 [==============================] - 0s 99ms/step - loss: 0.9606 - accuracy: 0.4167 - val_loss: 0.8971 - val_accuracy: 0.5833\n",
      "Epoch 86/1000\n",
      "1/1 [==============================] - ETA: 0s - loss: 0.9827 - accuracy: 0.5000\n",
      "Epoch 86: saving model to model/keypoint_classifier\\keypoint_classifier.hdf5\n",
      "1/1 [==============================] - 0s 84ms/step - loss: 0.9827 - accuracy: 0.5000 - val_loss: 0.8890 - val_accuracy: 0.5833\n",
      "Epoch 87/1000\n",
      "1/1 [==============================] - ETA: 0s - loss: 0.9370 - accuracy: 0.5000\n",
      "Epoch 87: saving model to model/keypoint_classifier\\keypoint_classifier.hdf5\n",
      "1/1 [==============================] - 0s 82ms/step - loss: 0.9370 - accuracy: 0.5000 - val_loss: 0.8808 - val_accuracy: 0.6667\n",
      "Epoch 88/1000\n",
      "1/1 [==============================] - ETA: 0s - loss: 0.9559 - accuracy: 0.5278\n",
      "Epoch 88: saving model to model/keypoint_classifier\\keypoint_classifier.hdf5\n",
      "1/1 [==============================] - 0s 140ms/step - loss: 0.9559 - accuracy: 0.5278 - val_loss: 0.8724 - val_accuracy: 0.6667\n",
      "Epoch 89/1000\n",
      "1/1 [==============================] - ETA: 0s - loss: 0.8783 - accuracy: 0.5833\n",
      "Epoch 89: saving model to model/keypoint_classifier\\keypoint_classifier.hdf5\n",
      "1/1 [==============================] - 0s 136ms/step - loss: 0.8783 - accuracy: 0.5833 - val_loss: 0.8641 - val_accuracy: 0.7500\n",
      "Epoch 90/1000\n",
      "1/1 [==============================] - ETA: 0s - loss: 0.9719 - accuracy: 0.4167\n",
      "Epoch 90: saving model to model/keypoint_classifier\\keypoint_classifier.hdf5\n",
      "1/1 [==============================] - 0s 60ms/step - loss: 0.9719 - accuracy: 0.4167 - val_loss: 0.8561 - val_accuracy: 0.7500\n",
      "Epoch 91/1000\n",
      "1/1 [==============================] - ETA: 0s - loss: 0.8506 - accuracy: 0.5278\n",
      "Epoch 91: saving model to model/keypoint_classifier\\keypoint_classifier.hdf5\n",
      "1/1 [==============================] - 0s 111ms/step - loss: 0.8506 - accuracy: 0.5278 - val_loss: 0.8486 - val_accuracy: 0.6667\n",
      "Epoch 92/1000\n",
      "1/1 [==============================] - ETA: 0s - loss: 0.9084 - accuracy: 0.5000\n",
      "Epoch 92: saving model to model/keypoint_classifier\\keypoint_classifier.hdf5\n",
      "1/1 [==============================] - 0s 46ms/step - loss: 0.9084 - accuracy: 0.5000 - val_loss: 0.8411 - val_accuracy: 0.6667\n",
      "Epoch 93/1000\n",
      "1/1 [==============================] - ETA: 0s - loss: 0.8126 - accuracy: 0.6111\n",
      "Epoch 93: saving model to model/keypoint_classifier\\keypoint_classifier.hdf5\n",
      "1/1 [==============================] - 0s 49ms/step - loss: 0.8126 - accuracy: 0.6111 - val_loss: 0.8336 - val_accuracy: 0.6667\n",
      "Epoch 94/1000\n",
      "1/1 [==============================] - ETA: 0s - loss: 0.9159 - accuracy: 0.4722\n",
      "Epoch 94: saving model to model/keypoint_classifier\\keypoint_classifier.hdf5\n",
      "1/1 [==============================] - 0s 48ms/step - loss: 0.9159 - accuracy: 0.4722 - val_loss: 0.8261 - val_accuracy: 0.6667\n",
      "Epoch 95/1000\n",
      "1/1 [==============================] - ETA: 0s - loss: 0.8506 - accuracy: 0.5556\n",
      "Epoch 95: saving model to model/keypoint_classifier\\keypoint_classifier.hdf5\n",
      "1/1 [==============================] - 0s 48ms/step - loss: 0.8506 - accuracy: 0.5556 - val_loss: 0.8193 - val_accuracy: 0.6667\n",
      "Epoch 96/1000\n",
      "1/1 [==============================] - ETA: 0s - loss: 0.8730 - accuracy: 0.5278\n",
      "Epoch 96: saving model to model/keypoint_classifier\\keypoint_classifier.hdf5\n",
      "1/1 [==============================] - 0s 51ms/step - loss: 0.8730 - accuracy: 0.5278 - val_loss: 0.8123 - val_accuracy: 0.6667\n",
      "Epoch 97/1000\n",
      "1/1 [==============================] - ETA: 0s - loss: 0.8045 - accuracy: 0.5833\n",
      "Epoch 97: saving model to model/keypoint_classifier\\keypoint_classifier.hdf5\n",
      "1/1 [==============================] - 0s 46ms/step - loss: 0.8045 - accuracy: 0.5833 - val_loss: 0.8047 - val_accuracy: 0.5833\n",
      "Epoch 98/1000\n",
      "1/1 [==============================] - ETA: 0s - loss: 0.9894 - accuracy: 0.4444\n",
      "Epoch 98: saving model to model/keypoint_classifier\\keypoint_classifier.hdf5\n",
      "1/1 [==============================] - 0s 47ms/step - loss: 0.9894 - accuracy: 0.4444 - val_loss: 0.7984 - val_accuracy: 0.5833\n",
      "Epoch 99/1000\n",
      "1/1 [==============================] - ETA: 0s - loss: 0.8569 - accuracy: 0.5000\n",
      "Epoch 99: saving model to model/keypoint_classifier\\keypoint_classifier.hdf5\n",
      "1/1 [==============================] - 0s 102ms/step - loss: 0.8569 - accuracy: 0.5000 - val_loss: 0.7930 - val_accuracy: 0.5833\n",
      "Epoch 100/1000\n",
      "1/1 [==============================] - ETA: 0s - loss: 0.8222 - accuracy: 0.5833\n",
      "Epoch 100: saving model to model/keypoint_classifier\\keypoint_classifier.hdf5\n",
      "1/1 [==============================] - 0s 58ms/step - loss: 0.8222 - accuracy: 0.5833 - val_loss: 0.7875 - val_accuracy: 0.5833\n",
      "Epoch 101/1000\n",
      "1/1 [==============================] - ETA: 0s - loss: 0.8383 - accuracy: 0.5278\n",
      "Epoch 101: saving model to model/keypoint_classifier\\keypoint_classifier.hdf5\n",
      "1/1 [==============================] - 0s 45ms/step - loss: 0.8383 - accuracy: 0.5278 - val_loss: 0.7827 - val_accuracy: 0.5833\n",
      "Epoch 102/1000\n",
      "1/1 [==============================] - ETA: 0s - loss: 0.7748 - accuracy: 0.6389\n",
      "Epoch 102: saving model to model/keypoint_classifier\\keypoint_classifier.hdf5\n",
      "1/1 [==============================] - 0s 45ms/step - loss: 0.7748 - accuracy: 0.6389 - val_loss: 0.7777 - val_accuracy: 0.5833\n",
      "Epoch 103/1000\n",
      "1/1 [==============================] - ETA: 0s - loss: 0.9252 - accuracy: 0.4167\n",
      "Epoch 103: saving model to model/keypoint_classifier\\keypoint_classifier.hdf5\n",
      "1/1 [==============================] - 0s 47ms/step - loss: 0.9252 - accuracy: 0.4167 - val_loss: 0.7728 - val_accuracy: 0.5833\n",
      "Epoch 104/1000\n",
      "1/1 [==============================] - ETA: 0s - loss: 0.7948 - accuracy: 0.5556\n",
      "Epoch 104: saving model to model/keypoint_classifier\\keypoint_classifier.hdf5\n",
      "1/1 [==============================] - 0s 50ms/step - loss: 0.7948 - accuracy: 0.5556 - val_loss: 0.7677 - val_accuracy: 0.5833\n",
      "Epoch 105/1000\n",
      "1/1 [==============================] - ETA: 0s - loss: 0.7866 - accuracy: 0.6389\n",
      "Epoch 105: saving model to model/keypoint_classifier\\keypoint_classifier.hdf5\n",
      "1/1 [==============================] - 0s 49ms/step - loss: 0.7866 - accuracy: 0.6389 - val_loss: 0.7617 - val_accuracy: 0.5833\n",
      "Epoch 106/1000\n",
      "1/1 [==============================] - ETA: 0s - loss: 0.7756 - accuracy: 0.6111\n",
      "Epoch 106: saving model to model/keypoint_classifier\\keypoint_classifier.hdf5\n",
      "1/1 [==============================] - 0s 46ms/step - loss: 0.7756 - accuracy: 0.6111 - val_loss: 0.7566 - val_accuracy: 0.5833\n",
      "Epoch 107/1000\n",
      "1/1 [==============================] - ETA: 0s - loss: 0.9252 - accuracy: 0.3333\n",
      "Epoch 107: saving model to model/keypoint_classifier\\keypoint_classifier.hdf5\n",
      "1/1 [==============================] - 0s 48ms/step - loss: 0.9252 - accuracy: 0.3333 - val_loss: 0.7516 - val_accuracy: 0.5833\n",
      "Epoch 108/1000\n",
      "1/1 [==============================] - ETA: 0s - loss: 0.8324 - accuracy: 0.5556\n",
      "Epoch 108: saving model to model/keypoint_classifier\\keypoint_classifier.hdf5\n",
      "1/1 [==============================] - 0s 48ms/step - loss: 0.8324 - accuracy: 0.5556 - val_loss: 0.7471 - val_accuracy: 0.5833\n",
      "Epoch 109/1000\n",
      "1/1 [==============================] - ETA: 0s - loss: 0.8037 - accuracy: 0.5000\n",
      "Epoch 109: saving model to model/keypoint_classifier\\keypoint_classifier.hdf5\n",
      "1/1 [==============================] - 0s 51ms/step - loss: 0.8037 - accuracy: 0.5000 - val_loss: 0.7430 - val_accuracy: 0.5833\n",
      "Epoch 110/1000\n"
     ]
    },
    {
     "name": "stdout",
     "output_type": "stream",
     "text": [
      "1/1 [==============================] - ETA: 0s - loss: 0.9139 - accuracy: 0.5278\n",
      "Epoch 110: saving model to model/keypoint_classifier\\keypoint_classifier.hdf5\n",
      "1/1 [==============================] - 0s 50ms/step - loss: 0.9139 - accuracy: 0.5278 - val_loss: 0.7391 - val_accuracy: 0.5833\n",
      "Epoch 111/1000\n",
      "1/1 [==============================] - ETA: 0s - loss: 0.7873 - accuracy: 0.6111\n",
      "Epoch 111: saving model to model/keypoint_classifier\\keypoint_classifier.hdf5\n",
      "1/1 [==============================] - 0s 50ms/step - loss: 0.7873 - accuracy: 0.6111 - val_loss: 0.7348 - val_accuracy: 0.5833\n",
      "Epoch 112/1000\n",
      "1/1 [==============================] - ETA: 0s - loss: 0.7443 - accuracy: 0.6944\n",
      "Epoch 112: saving model to model/keypoint_classifier\\keypoint_classifier.hdf5\n",
      "1/1 [==============================] - 0s 48ms/step - loss: 0.7443 - accuracy: 0.6944 - val_loss: 0.7299 - val_accuracy: 0.5833\n",
      "Epoch 113/1000\n",
      "1/1 [==============================] - ETA: 0s - loss: 0.7403 - accuracy: 0.5278\n",
      "Epoch 113: saving model to model/keypoint_classifier\\keypoint_classifier.hdf5\n",
      "1/1 [==============================] - 0s 52ms/step - loss: 0.7403 - accuracy: 0.5278 - val_loss: 0.7258 - val_accuracy: 0.5833\n",
      "Epoch 114/1000\n",
      "1/1 [==============================] - ETA: 0s - loss: 0.8381 - accuracy: 0.5833\n",
      "Epoch 114: saving model to model/keypoint_classifier\\keypoint_classifier.hdf5\n",
      "1/1 [==============================] - 0s 49ms/step - loss: 0.8381 - accuracy: 0.5833 - val_loss: 0.7223 - val_accuracy: 0.5833\n",
      "Epoch 115/1000\n",
      "1/1 [==============================] - ETA: 0s - loss: 0.8990 - accuracy: 0.3611\n",
      "Epoch 115: saving model to model/keypoint_classifier\\keypoint_classifier.hdf5\n",
      "1/1 [==============================] - 0s 47ms/step - loss: 0.8990 - accuracy: 0.3611 - val_loss: 0.7198 - val_accuracy: 0.5833\n",
      "Epoch 116/1000\n",
      "1/1 [==============================] - ETA: 0s - loss: 0.8497 - accuracy: 0.4722\n",
      "Epoch 116: saving model to model/keypoint_classifier\\keypoint_classifier.hdf5\n",
      "1/1 [==============================] - 0s 48ms/step - loss: 0.8497 - accuracy: 0.4722 - val_loss: 0.7175 - val_accuracy: 0.5833\n",
      "Epoch 117/1000\n",
      "1/1 [==============================] - ETA: 0s - loss: 0.9134 - accuracy: 0.3333\n",
      "Epoch 117: saving model to model/keypoint_classifier\\keypoint_classifier.hdf5\n",
      "1/1 [==============================] - 0s 48ms/step - loss: 0.9134 - accuracy: 0.3333 - val_loss: 0.7152 - val_accuracy: 0.5833\n",
      "Epoch 118/1000\n",
      "1/1 [==============================] - ETA: 0s - loss: 0.7918 - accuracy: 0.5278\n",
      "Epoch 118: saving model to model/keypoint_classifier\\keypoint_classifier.hdf5\n",
      "1/1 [==============================] - 0s 47ms/step - loss: 0.7918 - accuracy: 0.5278 - val_loss: 0.7135 - val_accuracy: 0.5833\n",
      "Epoch 119/1000\n",
      "1/1 [==============================] - ETA: 0s - loss: 0.7679 - accuracy: 0.6389\n",
      "Epoch 119: saving model to model/keypoint_classifier\\keypoint_classifier.hdf5\n",
      "1/1 [==============================] - 0s 50ms/step - loss: 0.7679 - accuracy: 0.6389 - val_loss: 0.7114 - val_accuracy: 0.5833\n",
      "Epoch 120/1000\n",
      "1/1 [==============================] - ETA: 0s - loss: 0.8428 - accuracy: 0.4722\n",
      "Epoch 120: saving model to model/keypoint_classifier\\keypoint_classifier.hdf5\n",
      "1/1 [==============================] - 0s 56ms/step - loss: 0.8428 - accuracy: 0.4722 - val_loss: 0.7090 - val_accuracy: 0.5833\n",
      "Epoch 121/1000\n",
      "1/1 [==============================] - ETA: 0s - loss: 0.7680 - accuracy: 0.5556\n",
      "Epoch 121: saving model to model/keypoint_classifier\\keypoint_classifier.hdf5\n",
      "1/1 [==============================] - 0s 54ms/step - loss: 0.7680 - accuracy: 0.5556 - val_loss: 0.7071 - val_accuracy: 0.5833\n",
      "Epoch 122/1000\n",
      "1/1 [==============================] - ETA: 0s - loss: 0.8672 - accuracy: 0.5000\n",
      "Epoch 122: saving model to model/keypoint_classifier\\keypoint_classifier.hdf5\n",
      "1/1 [==============================] - 0s 50ms/step - loss: 0.8672 - accuracy: 0.5000 - val_loss: 0.7050 - val_accuracy: 0.5833\n",
      "Epoch 123/1000\n",
      "1/1 [==============================] - ETA: 0s - loss: 0.7635 - accuracy: 0.5556\n",
      "Epoch 123: saving model to model/keypoint_classifier\\keypoint_classifier.hdf5\n",
      "1/1 [==============================] - 0s 52ms/step - loss: 0.7635 - accuracy: 0.5556 - val_loss: 0.7033 - val_accuracy: 0.5833\n",
      "Epoch 124/1000\n",
      "1/1 [==============================] - ETA: 0s - loss: 0.7814 - accuracy: 0.5556\n",
      "Epoch 124: saving model to model/keypoint_classifier\\keypoint_classifier.hdf5\n",
      "1/1 [==============================] - 0s 59ms/step - loss: 0.7814 - accuracy: 0.5556 - val_loss: 0.7019 - val_accuracy: 0.5833\n",
      "Epoch 125/1000\n",
      "1/1 [==============================] - ETA: 0s - loss: 0.7511 - accuracy: 0.5278\n",
      "Epoch 125: saving model to model/keypoint_classifier\\keypoint_classifier.hdf5\n",
      "1/1 [==============================] - 0s 66ms/step - loss: 0.7511 - accuracy: 0.5278 - val_loss: 0.7000 - val_accuracy: 0.5833\n",
      "Epoch 126/1000\n",
      "1/1 [==============================] - ETA: 0s - loss: 0.7574 - accuracy: 0.5556\n",
      "Epoch 126: saving model to model/keypoint_classifier\\keypoint_classifier.hdf5\n",
      "1/1 [==============================] - 0s 51ms/step - loss: 0.7574 - accuracy: 0.5556 - val_loss: 0.6976 - val_accuracy: 0.5833\n",
      "Epoch 127/1000\n",
      "1/1 [==============================] - ETA: 0s - loss: 0.8402 - accuracy: 0.3611\n",
      "Epoch 127: saving model to model/keypoint_classifier\\keypoint_classifier.hdf5\n",
      "1/1 [==============================] - 0s 46ms/step - loss: 0.8402 - accuracy: 0.3611 - val_loss: 0.6964 - val_accuracy: 0.5833\n",
      "Epoch 128/1000\n",
      "1/1 [==============================] - ETA: 0s - loss: 0.7108 - accuracy: 0.6944\n",
      "Epoch 128: saving model to model/keypoint_classifier\\keypoint_classifier.hdf5\n",
      "1/1 [==============================] - 0s 49ms/step - loss: 0.7108 - accuracy: 0.6944 - val_loss: 0.6954 - val_accuracy: 0.5833\n",
      "Epoch 129/1000\n",
      "1/1 [==============================] - ETA: 0s - loss: 0.7749 - accuracy: 0.5833\n",
      "Epoch 129: saving model to model/keypoint_classifier\\keypoint_classifier.hdf5\n",
      "1/1 [==============================] - 0s 46ms/step - loss: 0.7749 - accuracy: 0.5833 - val_loss: 0.6945 - val_accuracy: 0.5833\n",
      "Epoch 130/1000\n",
      "1/1 [==============================] - ETA: 0s - loss: 0.8430 - accuracy: 0.5000\n",
      "Epoch 130: saving model to model/keypoint_classifier\\keypoint_classifier.hdf5\n",
      "1/1 [==============================] - 0s 46ms/step - loss: 0.8430 - accuracy: 0.5000 - val_loss: 0.6939 - val_accuracy: 0.5833\n",
      "Epoch 131/1000\n",
      "1/1 [==============================] - ETA: 0s - loss: 0.7545 - accuracy: 0.5833\n",
      "Epoch 131: saving model to model/keypoint_classifier\\keypoint_classifier.hdf5\n",
      "1/1 [==============================] - 0s 47ms/step - loss: 0.7545 - accuracy: 0.5833 - val_loss: 0.6923 - val_accuracy: 0.5833\n",
      "Epoch 132/1000\n",
      "1/1 [==============================] - ETA: 0s - loss: 0.7512 - accuracy: 0.6111\n",
      "Epoch 132: saving model to model/keypoint_classifier\\keypoint_classifier.hdf5\n",
      "1/1 [==============================] - 0s 49ms/step - loss: 0.7512 - accuracy: 0.6111 - val_loss: 0.6904 - val_accuracy: 0.5833\n",
      "Epoch 133/1000\n",
      "1/1 [==============================] - ETA: 0s - loss: 0.7469 - accuracy: 0.5556\n",
      "Epoch 133: saving model to model/keypoint_classifier\\keypoint_classifier.hdf5\n",
      "1/1 [==============================] - 0s 50ms/step - loss: 0.7469 - accuracy: 0.5556 - val_loss: 0.6880 - val_accuracy: 0.5833\n",
      "Epoch 134/1000\n",
      "1/1 [==============================] - ETA: 0s - loss: 0.8368 - accuracy: 0.4444\n",
      "Epoch 134: saving model to model/keypoint_classifier\\keypoint_classifier.hdf5\n",
      "1/1 [==============================] - 0s 51ms/step - loss: 0.8368 - accuracy: 0.4444 - val_loss: 0.6859 - val_accuracy: 0.5833\n",
      "Epoch 135/1000\n",
      "1/1 [==============================] - ETA: 0s - loss: 0.7877 - accuracy: 0.4444\n",
      "Epoch 135: saving model to model/keypoint_classifier\\keypoint_classifier.hdf5\n",
      "1/1 [==============================] - 0s 47ms/step - loss: 0.7877 - accuracy: 0.4444 - val_loss: 0.6839 - val_accuracy: 0.5833\n",
      "Epoch 136/1000\n",
      "1/1 [==============================] - ETA: 0s - loss: 0.7824 - accuracy: 0.5000\n",
      "Epoch 136: saving model to model/keypoint_classifier\\keypoint_classifier.hdf5\n",
      "1/1 [==============================] - 0s 48ms/step - loss: 0.7824 - accuracy: 0.5000 - val_loss: 0.6812 - val_accuracy: 0.5833\n",
      "Epoch 137/1000\n"
     ]
    },
    {
     "name": "stdout",
     "output_type": "stream",
     "text": [
      "1/1 [==============================] - ETA: 0s - loss: 0.7447 - accuracy: 0.5556\n",
      "Epoch 137: saving model to model/keypoint_classifier\\keypoint_classifier.hdf5\n",
      "1/1 [==============================] - 0s 48ms/step - loss: 0.7447 - accuracy: 0.5556 - val_loss: 0.6790 - val_accuracy: 0.5833\n",
      "Epoch 138/1000\n",
      "1/1 [==============================] - ETA: 0s - loss: 0.8248 - accuracy: 0.5000\n",
      "Epoch 138: saving model to model/keypoint_classifier\\keypoint_classifier.hdf5\n",
      "1/1 [==============================] - 0s 49ms/step - loss: 0.8248 - accuracy: 0.5000 - val_loss: 0.6767 - val_accuracy: 0.5833\n",
      "Epoch 139/1000\n",
      "1/1 [==============================] - ETA: 0s - loss: 0.7885 - accuracy: 0.5278\n",
      "Epoch 139: saving model to model/keypoint_classifier\\keypoint_classifier.hdf5\n",
      "1/1 [==============================] - 0s 48ms/step - loss: 0.7885 - accuracy: 0.5278 - val_loss: 0.6748 - val_accuracy: 0.6667\n",
      "Epoch 140/1000\n",
      "1/1 [==============================] - ETA: 0s - loss: 0.7860 - accuracy: 0.6111\n",
      "Epoch 140: saving model to model/keypoint_classifier\\keypoint_classifier.hdf5\n",
      "1/1 [==============================] - 0s 46ms/step - loss: 0.7860 - accuracy: 0.6111 - val_loss: 0.6725 - val_accuracy: 0.6667\n",
      "Epoch 141/1000\n",
      "1/1 [==============================] - ETA: 0s - loss: 0.7475 - accuracy: 0.6111\n",
      "Epoch 141: saving model to model/keypoint_classifier\\keypoint_classifier.hdf5\n",
      "1/1 [==============================] - 0s 48ms/step - loss: 0.7475 - accuracy: 0.6111 - val_loss: 0.6703 - val_accuracy: 0.7500\n",
      "Epoch 142/1000\n",
      "1/1 [==============================] - ETA: 0s - loss: 0.8405 - accuracy: 0.5833\n",
      "Epoch 142: saving model to model/keypoint_classifier\\keypoint_classifier.hdf5\n",
      "1/1 [==============================] - 0s 47ms/step - loss: 0.8405 - accuracy: 0.5833 - val_loss: 0.6679 - val_accuracy: 0.7500\n",
      "Epoch 143/1000\n",
      "1/1 [==============================] - ETA: 0s - loss: 0.7403 - accuracy: 0.6111\n",
      "Epoch 143: saving model to model/keypoint_classifier\\keypoint_classifier.hdf5\n",
      "1/1 [==============================] - 0s 47ms/step - loss: 0.7403 - accuracy: 0.6111 - val_loss: 0.6663 - val_accuracy: 0.7500\n",
      "Epoch 144/1000\n",
      "1/1 [==============================] - ETA: 0s - loss: 0.7437 - accuracy: 0.6667\n",
      "Epoch 144: saving model to model/keypoint_classifier\\keypoint_classifier.hdf5\n",
      "1/1 [==============================] - 0s 52ms/step - loss: 0.7437 - accuracy: 0.6667 - val_loss: 0.6652 - val_accuracy: 0.5833\n",
      "Epoch 145/1000\n",
      "1/1 [==============================] - ETA: 0s - loss: 0.7500 - accuracy: 0.6111\n",
      "Epoch 145: saving model to model/keypoint_classifier\\keypoint_classifier.hdf5\n",
      "1/1 [==============================] - 0s 47ms/step - loss: 0.7500 - accuracy: 0.6111 - val_loss: 0.6642 - val_accuracy: 0.5833\n",
      "Epoch 146/1000\n",
      "1/1 [==============================] - ETA: 0s - loss: 0.8254 - accuracy: 0.4167\n",
      "Epoch 146: saving model to model/keypoint_classifier\\keypoint_classifier.hdf5\n",
      "1/1 [==============================] - 0s 47ms/step - loss: 0.8254 - accuracy: 0.4167 - val_loss: 0.6625 - val_accuracy: 0.5000\n",
      "Epoch 147/1000\n",
      "1/1 [==============================] - ETA: 0s - loss: 0.7664 - accuracy: 0.5000\n",
      "Epoch 147: saving model to model/keypoint_classifier\\keypoint_classifier.hdf5\n",
      "1/1 [==============================] - 0s 48ms/step - loss: 0.7664 - accuracy: 0.5000 - val_loss: 0.6611 - val_accuracy: 0.5000\n",
      "Epoch 148/1000\n",
      "1/1 [==============================] - ETA: 0s - loss: 0.8420 - accuracy: 0.4444\n",
      "Epoch 148: saving model to model/keypoint_classifier\\keypoint_classifier.hdf5\n",
      "1/1 [==============================] - 0s 50ms/step - loss: 0.8420 - accuracy: 0.4444 - val_loss: 0.6603 - val_accuracy: 0.5000\n",
      "Epoch 149/1000\n",
      "1/1 [==============================] - ETA: 0s - loss: 0.7153 - accuracy: 0.6944\n",
      "Epoch 149: saving model to model/keypoint_classifier\\keypoint_classifier.hdf5\n",
      "1/1 [==============================] - 0s 52ms/step - loss: 0.7153 - accuracy: 0.6944 - val_loss: 0.6591 - val_accuracy: 0.5000\n",
      "Epoch 150/1000\n",
      "1/1 [==============================] - ETA: 0s - loss: 0.8497 - accuracy: 0.4167\n",
      "Epoch 150: saving model to model/keypoint_classifier\\keypoint_classifier.hdf5\n",
      "1/1 [==============================] - 0s 48ms/step - loss: 0.8497 - accuracy: 0.4167 - val_loss: 0.6576 - val_accuracy: 0.5000\n",
      "Epoch 151/1000\n",
      "1/1 [==============================] - ETA: 0s - loss: 0.6895 - accuracy: 0.6389\n",
      "Epoch 151: saving model to model/keypoint_classifier\\keypoint_classifier.hdf5\n",
      "1/1 [==============================] - 0s 49ms/step - loss: 0.6895 - accuracy: 0.6389 - val_loss: 0.6550 - val_accuracy: 0.5000\n",
      "Epoch 152/1000\n",
      "1/1 [==============================] - ETA: 0s - loss: 0.7547 - accuracy: 0.5833\n",
      "Epoch 152: saving model to model/keypoint_classifier\\keypoint_classifier.hdf5\n",
      "1/1 [==============================] - 0s 47ms/step - loss: 0.7547 - accuracy: 0.5833 - val_loss: 0.6538 - val_accuracy: 0.5000\n",
      "Epoch 153/1000\n",
      "1/1 [==============================] - ETA: 0s - loss: 0.7300 - accuracy: 0.5556\n",
      "Epoch 153: saving model to model/keypoint_classifier\\keypoint_classifier.hdf5\n",
      "1/1 [==============================] - 0s 47ms/step - loss: 0.7300 - accuracy: 0.5556 - val_loss: 0.6530 - val_accuracy: 0.5000\n",
      "Epoch 154/1000\n",
      "1/1 [==============================] - ETA: 0s - loss: 0.7208 - accuracy: 0.6389\n",
      "Epoch 154: saving model to model/keypoint_classifier\\keypoint_classifier.hdf5\n",
      "1/1 [==============================] - 0s 48ms/step - loss: 0.7208 - accuracy: 0.6389 - val_loss: 0.6529 - val_accuracy: 0.5000\n",
      "Epoch 155/1000\n",
      "1/1 [==============================] - ETA: 0s - loss: 0.7515 - accuracy: 0.6111\n",
      "Epoch 155: saving model to model/keypoint_classifier\\keypoint_classifier.hdf5\n",
      "1/1 [==============================] - 0s 48ms/step - loss: 0.7515 - accuracy: 0.6111 - val_loss: 0.6532 - val_accuracy: 0.5000\n",
      "Epoch 156/1000\n",
      "1/1 [==============================] - ETA: 0s - loss: 0.7944 - accuracy: 0.4444\n",
      "Epoch 156: saving model to model/keypoint_classifier\\keypoint_classifier.hdf5\n",
      "1/1 [==============================] - 0s 49ms/step - loss: 0.7944 - accuracy: 0.4444 - val_loss: 0.6531 - val_accuracy: 0.5000\n",
      "Epoch 157/1000\n",
      "1/1 [==============================] - ETA: 0s - loss: 0.7544 - accuracy: 0.4444\n",
      "Epoch 157: saving model to model/keypoint_classifier\\keypoint_classifier.hdf5\n",
      "1/1 [==============================] - 0s 48ms/step - loss: 0.7544 - accuracy: 0.4444 - val_loss: 0.6531 - val_accuracy: 0.5000\n",
      "Epoch 158/1000\n",
      "1/1 [==============================] - ETA: 0s - loss: 0.7948 - accuracy: 0.4722\n",
      "Epoch 158: saving model to model/keypoint_classifier\\keypoint_classifier.hdf5\n",
      "1/1 [==============================] - 0s 49ms/step - loss: 0.7948 - accuracy: 0.4722 - val_loss: 0.6519 - val_accuracy: 0.5000\n",
      "Epoch 159/1000\n",
      "1/1 [==============================] - ETA: 0s - loss: 0.7582 - accuracy: 0.5278\n",
      "Epoch 159: saving model to model/keypoint_classifier\\keypoint_classifier.hdf5\n",
      "1/1 [==============================] - 0s 49ms/step - loss: 0.7582 - accuracy: 0.5278 - val_loss: 0.6505 - val_accuracy: 0.5000\n",
      "Epoch 160/1000\n",
      "1/1 [==============================] - ETA: 0s - loss: 0.7241 - accuracy: 0.5278\n",
      "Epoch 160: saving model to model/keypoint_classifier\\keypoint_classifier.hdf5\n",
      "1/1 [==============================] - 0s 48ms/step - loss: 0.7241 - accuracy: 0.5278 - val_loss: 0.6486 - val_accuracy: 0.5000\n",
      "Epoch 161/1000\n",
      "1/1 [==============================] - ETA: 0s - loss: 0.7668 - accuracy: 0.5556\n",
      "Epoch 161: saving model to model/keypoint_classifier\\keypoint_classifier.hdf5\n",
      "1/1 [==============================] - 0s 46ms/step - loss: 0.7668 - accuracy: 0.5556 - val_loss: 0.6462 - val_accuracy: 0.5000\n",
      "Epoch 162/1000\n",
      "1/1 [==============================] - ETA: 0s - loss: 0.6910 - accuracy: 0.7222\n",
      "Epoch 162: saving model to model/keypoint_classifier\\keypoint_classifier.hdf5\n",
      "1/1 [==============================] - 0s 48ms/step - loss: 0.6910 - accuracy: 0.7222 - val_loss: 0.6432 - val_accuracy: 0.5833\n",
      "Epoch 163/1000\n",
      "1/1 [==============================] - ETA: 0s - loss: 0.7018 - accuracy: 0.5833\n",
      "Epoch 163: saving model to model/keypoint_classifier\\keypoint_classifier.hdf5\n",
      "1/1 [==============================] - 0s 48ms/step - loss: 0.7018 - accuracy: 0.5833 - val_loss: 0.6408 - val_accuracy: 0.6667\n",
      "Epoch 164/1000\n"
     ]
    },
    {
     "name": "stdout",
     "output_type": "stream",
     "text": [
      "1/1 [==============================] - ETA: 0s - loss: 0.7258 - accuracy: 0.6389\n",
      "Epoch 164: saving model to model/keypoint_classifier\\keypoint_classifier.hdf5\n",
      "1/1 [==============================] - 0s 48ms/step - loss: 0.7258 - accuracy: 0.6389 - val_loss: 0.6391 - val_accuracy: 0.6667\n",
      "Epoch 165/1000\n",
      "1/1 [==============================] - ETA: 0s - loss: 0.6795 - accuracy: 0.7222\n",
      "Epoch 165: saving model to model/keypoint_classifier\\keypoint_classifier.hdf5\n",
      "1/1 [==============================] - 0s 50ms/step - loss: 0.6795 - accuracy: 0.7222 - val_loss: 0.6382 - val_accuracy: 0.6667\n",
      "Epoch 166/1000\n",
      "1/1 [==============================] - ETA: 0s - loss: 0.7894 - accuracy: 0.5833\n",
      "Epoch 166: saving model to model/keypoint_classifier\\keypoint_classifier.hdf5\n",
      "1/1 [==============================] - 0s 57ms/step - loss: 0.7894 - accuracy: 0.5833 - val_loss: 0.6369 - val_accuracy: 0.6667\n",
      "Epoch 167/1000\n",
      "1/1 [==============================] - ETA: 0s - loss: 0.7685 - accuracy: 0.4722\n",
      "Epoch 167: saving model to model/keypoint_classifier\\keypoint_classifier.hdf5\n",
      "1/1 [==============================] - 0s 50ms/step - loss: 0.7685 - accuracy: 0.4722 - val_loss: 0.6357 - val_accuracy: 0.6667\n",
      "Epoch 168/1000\n",
      "1/1 [==============================] - ETA: 0s - loss: 0.7790 - accuracy: 0.5000\n",
      "Epoch 168: saving model to model/keypoint_classifier\\keypoint_classifier.hdf5\n",
      "1/1 [==============================] - 0s 52ms/step - loss: 0.7790 - accuracy: 0.5000 - val_loss: 0.6340 - val_accuracy: 0.7500\n",
      "Epoch 169/1000\n",
      "1/1 [==============================] - ETA: 0s - loss: 0.7674 - accuracy: 0.5000\n",
      "Epoch 169: saving model to model/keypoint_classifier\\keypoint_classifier.hdf5\n",
      "1/1 [==============================] - 0s 49ms/step - loss: 0.7674 - accuracy: 0.5000 - val_loss: 0.6324 - val_accuracy: 0.7500\n",
      "Epoch 170/1000\n",
      "1/1 [==============================] - ETA: 0s - loss: 0.7220 - accuracy: 0.5278\n",
      "Epoch 170: saving model to model/keypoint_classifier\\keypoint_classifier.hdf5\n",
      "1/1 [==============================] - 0s 46ms/step - loss: 0.7220 - accuracy: 0.5278 - val_loss: 0.6303 - val_accuracy: 0.7500\n",
      "Epoch 171/1000\n",
      "1/1 [==============================] - ETA: 0s - loss: 0.7011 - accuracy: 0.5278\n",
      "Epoch 171: saving model to model/keypoint_classifier\\keypoint_classifier.hdf5\n",
      "1/1 [==============================] - 0s 47ms/step - loss: 0.7011 - accuracy: 0.5278 - val_loss: 0.6275 - val_accuracy: 0.7500\n",
      "Epoch 172/1000\n",
      "1/1 [==============================] - ETA: 0s - loss: 0.7084 - accuracy: 0.6111\n",
      "Epoch 172: saving model to model/keypoint_classifier\\keypoint_classifier.hdf5\n",
      "1/1 [==============================] - 0s 48ms/step - loss: 0.7084 - accuracy: 0.6111 - val_loss: 0.6251 - val_accuracy: 0.7500\n",
      "Epoch 173/1000\n",
      "1/1 [==============================] - ETA: 0s - loss: 0.7869 - accuracy: 0.5278\n",
      "Epoch 173: saving model to model/keypoint_classifier\\keypoint_classifier.hdf5\n",
      "1/1 [==============================] - 0s 59ms/step - loss: 0.7869 - accuracy: 0.5278 - val_loss: 0.6227 - val_accuracy: 0.7500\n",
      "Epoch 174/1000\n",
      "1/1 [==============================] - ETA: 0s - loss: 0.7276 - accuracy: 0.5556\n",
      "Epoch 174: saving model to model/keypoint_classifier\\keypoint_classifier.hdf5\n",
      "1/1 [==============================] - 0s 62ms/step - loss: 0.7276 - accuracy: 0.5556 - val_loss: 0.6209 - val_accuracy: 0.7500\n",
      "Epoch 175/1000\n",
      "1/1 [==============================] - ETA: 0s - loss: 0.6818 - accuracy: 0.5833\n",
      "Epoch 175: saving model to model/keypoint_classifier\\keypoint_classifier.hdf5\n",
      "1/1 [==============================] - 0s 60ms/step - loss: 0.6818 - accuracy: 0.5833 - val_loss: 0.6194 - val_accuracy: 0.7500\n",
      "Epoch 176/1000\n",
      "1/1 [==============================] - ETA: 0s - loss: 0.7253 - accuracy: 0.6389\n",
      "Epoch 176: saving model to model/keypoint_classifier\\keypoint_classifier.hdf5\n",
      "1/1 [==============================] - 0s 59ms/step - loss: 0.7253 - accuracy: 0.6389 - val_loss: 0.6181 - val_accuracy: 0.7500\n",
      "Epoch 177/1000\n",
      "1/1 [==============================] - ETA: 0s - loss: 0.7940 - accuracy: 0.5000\n",
      "Epoch 177: saving model to model/keypoint_classifier\\keypoint_classifier.hdf5\n",
      "1/1 [==============================] - 0s 63ms/step - loss: 0.7940 - accuracy: 0.5000 - val_loss: 0.6166 - val_accuracy: 0.7500\n",
      "Epoch 178/1000\n",
      "1/1 [==============================] - ETA: 0s - loss: 0.7348 - accuracy: 0.6111\n",
      "Epoch 178: saving model to model/keypoint_classifier\\keypoint_classifier.hdf5\n",
      "1/1 [==============================] - 0s 57ms/step - loss: 0.7348 - accuracy: 0.6111 - val_loss: 0.6151 - val_accuracy: 0.7500\n",
      "Epoch 179/1000\n",
      "1/1 [==============================] - ETA: 0s - loss: 0.7492 - accuracy: 0.5278\n",
      "Epoch 179: saving model to model/keypoint_classifier\\keypoint_classifier.hdf5\n",
      "1/1 [==============================] - 0s 47ms/step - loss: 0.7492 - accuracy: 0.5278 - val_loss: 0.6138 - val_accuracy: 0.7500\n",
      "Epoch 180/1000\n",
      "1/1 [==============================] - ETA: 0s - loss: 0.7448 - accuracy: 0.4444\n",
      "Epoch 180: saving model to model/keypoint_classifier\\keypoint_classifier.hdf5\n",
      "1/1 [==============================] - 0s 46ms/step - loss: 0.7448 - accuracy: 0.4444 - val_loss: 0.6127 - val_accuracy: 0.7500\n",
      "Epoch 181/1000\n",
      "1/1 [==============================] - ETA: 0s - loss: 0.6761 - accuracy: 0.6111\n",
      "Epoch 181: saving model to model/keypoint_classifier\\keypoint_classifier.hdf5\n",
      "1/1 [==============================] - 0s 47ms/step - loss: 0.6761 - accuracy: 0.6111 - val_loss: 0.6124 - val_accuracy: 0.7500\n",
      "Epoch 182/1000\n",
      "1/1 [==============================] - ETA: 0s - loss: 0.6799 - accuracy: 0.5833\n",
      "Epoch 182: saving model to model/keypoint_classifier\\keypoint_classifier.hdf5\n",
      "1/1 [==============================] - 0s 54ms/step - loss: 0.6799 - accuracy: 0.5833 - val_loss: 0.6123 - val_accuracy: 0.7500\n",
      "Epoch 183/1000\n",
      "1/1 [==============================] - ETA: 0s - loss: 0.7427 - accuracy: 0.5833\n",
      "Epoch 183: saving model to model/keypoint_classifier\\keypoint_classifier.hdf5\n",
      "1/1 [==============================] - 0s 72ms/step - loss: 0.7427 - accuracy: 0.5833 - val_loss: 0.6129 - val_accuracy: 0.7500\n",
      "Epoch 184/1000\n",
      "1/1 [==============================] - ETA: 0s - loss: 0.6870 - accuracy: 0.5833\n",
      "Epoch 184: saving model to model/keypoint_classifier\\keypoint_classifier.hdf5\n",
      "1/1 [==============================] - 0s 48ms/step - loss: 0.6870 - accuracy: 0.5833 - val_loss: 0.6144 - val_accuracy: 0.7500\n",
      "Epoch 185/1000\n",
      "1/1 [==============================] - ETA: 0s - loss: 0.6944 - accuracy: 0.5833\n",
      "Epoch 185: saving model to model/keypoint_classifier\\keypoint_classifier.hdf5\n",
      "1/1 [==============================] - 0s 50ms/step - loss: 0.6944 - accuracy: 0.5833 - val_loss: 0.6159 - val_accuracy: 0.7500\n",
      "Epoch 186/1000\n",
      "1/1 [==============================] - ETA: 0s - loss: 0.7626 - accuracy: 0.5278\n",
      "Epoch 186: saving model to model/keypoint_classifier\\keypoint_classifier.hdf5\n",
      "1/1 [==============================] - 0s 49ms/step - loss: 0.7626 - accuracy: 0.5278 - val_loss: 0.6176 - val_accuracy: 0.7500\n",
      "Epoch 187/1000\n",
      "1/1 [==============================] - ETA: 0s - loss: 0.7583 - accuracy: 0.4167\n",
      "Epoch 187: saving model to model/keypoint_classifier\\keypoint_classifier.hdf5\n",
      "1/1 [==============================] - 0s 50ms/step - loss: 0.7583 - accuracy: 0.4167 - val_loss: 0.6197 - val_accuracy: 0.7500\n",
      "Epoch 188/1000\n",
      "1/1 [==============================] - ETA: 0s - loss: 0.7486 - accuracy: 0.5000\n",
      "Epoch 188: saving model to model/keypoint_classifier\\keypoint_classifier.hdf5\n",
      "1/1 [==============================] - 0s 48ms/step - loss: 0.7486 - accuracy: 0.5000 - val_loss: 0.6226 - val_accuracy: 0.8333\n",
      "Epoch 189/1000\n",
      "1/1 [==============================] - ETA: 0s - loss: 0.7180 - accuracy: 0.6111\n",
      "Epoch 189: saving model to model/keypoint_classifier\\keypoint_classifier.hdf5\n",
      "1/1 [==============================] - 0s 49ms/step - loss: 0.7180 - accuracy: 0.6111 - val_loss: 0.6252 - val_accuracy: 0.7500\n",
      "Epoch 190/1000\n",
      "1/1 [==============================] - ETA: 0s - loss: 0.7443 - accuracy: 0.5833\n",
      "Epoch 190: saving model to model/keypoint_classifier\\keypoint_classifier.hdf5\n",
      "1/1 [==============================] - 0s 49ms/step - loss: 0.7443 - accuracy: 0.5833 - val_loss: 0.6278 - val_accuracy: 0.7500\n",
      "Epoch 191/1000\n"
     ]
    },
    {
     "name": "stdout",
     "output_type": "stream",
     "text": [
      "1/1 [==============================] - ETA: 0s - loss: 0.7826 - accuracy: 0.5000\n",
      "Epoch 191: saving model to model/keypoint_classifier\\keypoint_classifier.hdf5\n",
      "1/1 [==============================] - 0s 63ms/step - loss: 0.7826 - accuracy: 0.5000 - val_loss: 0.6296 - val_accuracy: 0.7500\n",
      "Epoch 192/1000\n",
      "1/1 [==============================] - ETA: 0s - loss: 0.7626 - accuracy: 0.5833\n",
      "Epoch 192: saving model to model/keypoint_classifier\\keypoint_classifier.hdf5\n",
      "1/1 [==============================] - 0s 112ms/step - loss: 0.7626 - accuracy: 0.5833 - val_loss: 0.6314 - val_accuracy: 0.6667\n",
      "Epoch 193/1000\n",
      "1/1 [==============================] - ETA: 0s - loss: 0.7339 - accuracy: 0.5833\n",
      "Epoch 193: saving model to model/keypoint_classifier\\keypoint_classifier.hdf5\n",
      "1/1 [==============================] - 0s 67ms/step - loss: 0.7339 - accuracy: 0.5833 - val_loss: 0.6324 - val_accuracy: 0.5833\n",
      "Epoch 194/1000\n",
      "1/1 [==============================] - ETA: 0s - loss: 0.7512 - accuracy: 0.6667\n",
      "Epoch 194: saving model to model/keypoint_classifier\\keypoint_classifier.hdf5\n",
      "1/1 [==============================] - 0s 67ms/step - loss: 0.7512 - accuracy: 0.6667 - val_loss: 0.6331 - val_accuracy: 0.6667\n",
      "Epoch 195/1000\n",
      "1/1 [==============================] - ETA: 0s - loss: 0.7175 - accuracy: 0.6667\n",
      "Epoch 195: saving model to model/keypoint_classifier\\keypoint_classifier.hdf5\n",
      "1/1 [==============================] - 0s 54ms/step - loss: 0.7175 - accuracy: 0.6667 - val_loss: 0.6337 - val_accuracy: 0.6667\n",
      "Epoch 196/1000\n",
      "1/1 [==============================] - ETA: 0s - loss: 0.7367 - accuracy: 0.5000\n",
      "Epoch 196: saving model to model/keypoint_classifier\\keypoint_classifier.hdf5\n",
      "1/1 [==============================] - 0s 57ms/step - loss: 0.7367 - accuracy: 0.5000 - val_loss: 0.6327 - val_accuracy: 0.6667\n",
      "Epoch 197/1000\n",
      "1/1 [==============================] - ETA: 0s - loss: 0.6969 - accuracy: 0.5556\n",
      "Epoch 197: saving model to model/keypoint_classifier\\keypoint_classifier.hdf5\n",
      "1/1 [==============================] - 0s 63ms/step - loss: 0.6969 - accuracy: 0.5556 - val_loss: 0.6312 - val_accuracy: 0.6667\n",
      "Epoch 198/1000\n",
      "1/1 [==============================] - ETA: 0s - loss: 0.6807 - accuracy: 0.5556\n",
      "Epoch 198: saving model to model/keypoint_classifier\\keypoint_classifier.hdf5\n",
      "1/1 [==============================] - 0s 54ms/step - loss: 0.6807 - accuracy: 0.5556 - val_loss: 0.6300 - val_accuracy: 0.6667\n",
      "Epoch 199/1000\n",
      "1/1 [==============================] - ETA: 0s - loss: 0.7258 - accuracy: 0.4444\n",
      "Epoch 199: saving model to model/keypoint_classifier\\keypoint_classifier.hdf5\n",
      "1/1 [==============================] - 0s 58ms/step - loss: 0.7258 - accuracy: 0.4444 - val_loss: 0.6287 - val_accuracy: 0.7500\n",
      "Epoch 200/1000\n",
      "1/1 [==============================] - ETA: 0s - loss: 0.7504 - accuracy: 0.5278\n",
      "Epoch 200: saving model to model/keypoint_classifier\\keypoint_classifier.hdf5\n",
      "1/1 [==============================] - 0s 59ms/step - loss: 0.7504 - accuracy: 0.5278 - val_loss: 0.6274 - val_accuracy: 0.7500\n",
      "Epoch 201/1000\n",
      "1/1 [==============================] - ETA: 0s - loss: 0.7414 - accuracy: 0.4444\n",
      "Epoch 201: saving model to model/keypoint_classifier\\keypoint_classifier.hdf5\n",
      "1/1 [==============================] - 0s 56ms/step - loss: 0.7414 - accuracy: 0.4444 - val_loss: 0.6255 - val_accuracy: 0.8333\n",
      "Epoch 202/1000\n",
      "1/1 [==============================] - ETA: 0s - loss: 0.7018 - accuracy: 0.4722\n",
      "Epoch 202: saving model to model/keypoint_classifier\\keypoint_classifier.hdf5\n",
      "1/1 [==============================] - 0s 54ms/step - loss: 0.7018 - accuracy: 0.4722 - val_loss: 0.6239 - val_accuracy: 0.8333\n",
      "Epoch 202: early stopping\n"
     ]
    },
    {
     "data": {
      "text/plain": [
       "<keras.callbacks.History at 0x209eb26c8b0>"
      ]
     },
     "execution_count": 11,
     "metadata": {},
     "output_type": "execute_result"
    }
   ],
   "source": [
    "model.fit(\n",
    "    X_train,\n",
    "    y_train,\n",
    "    epochs=1000,\n",
    "    batch_size=128,\n",
    "    validation_data=(X_test, y_test),\n",
    "    callbacks=[cp_callback, es_callback]\n",
    ")"
   ]
  },
  {
   "cell_type": "code",
   "execution_count": 12,
   "metadata": {
    "colab": {
     "base_uri": "https://localhost:8080/"
    },
    "id": "pxvb2Y299hE3",
    "outputId": "59eb3185-2e37-4b9e-bc9d-ab1b8ac29b7f"
   },
   "outputs": [
    {
     "name": "stdout",
     "output_type": "stream",
     "text": [
      "1/1 [==============================] - 0s 18ms/step - loss: 0.6239 - accuracy: 0.8333\n"
     ]
    }
   ],
   "source": [
    "# Model evaluation\n",
    "val_loss, val_acc = model.evaluate(X_test, y_test, batch_size=128)"
   ]
  },
  {
   "cell_type": "code",
   "execution_count": 13,
   "metadata": {
    "id": "RBkmDeUW9hE4"
   },
   "outputs": [],
   "source": [
    "# Loading the saved model\n",
    "model = tf.keras.models.load_model(model_save_path)"
   ]
  },
  {
   "cell_type": "code",
   "execution_count": 14,
   "metadata": {
    "colab": {
     "base_uri": "https://localhost:8080/"
    },
    "id": "tFz9Tb0I9hE4",
    "outputId": "1c3b3528-54ae-4ee2-ab04-77429211cbef"
   },
   "outputs": [
    {
     "name": "stdout",
     "output_type": "stream",
     "text": [
      "1/1 [==============================] - 0s 101ms/step\n",
      "[3.2732889e-04 6.0673493e-01 3.8673705e-01 6.2007029e-03]\n",
      "1\n"
     ]
    }
   ],
   "source": [
    "# Inference test\n",
    "predict_result = model.predict(np.array([X_test[0]]))\n",
    "print(np.squeeze(predict_result))\n",
    "print(np.argmax(np.squeeze(predict_result)))"
   ]
  },
  {
   "cell_type": "markdown",
   "metadata": {
    "id": "S3U4yNWx9hE4"
   },
   "source": [
    "# Confusion matrix"
   ]
  },
  {
   "cell_type": "code",
   "execution_count": 15,
   "metadata": {
    "colab": {
     "base_uri": "https://localhost:8080/",
     "height": 582
    },
    "id": "AP1V6SCk9hE5",
    "outputId": "08e41a80-7a4a-4619-8125-ecc371368d19"
   },
   "outputs": [
    {
     "name": "stdout",
     "output_type": "stream",
     "text": [
      "1/1 [==============================] - 0s 21ms/step\n"
     ]
    },
    {
     "data": {
      "image/png": "[encoded data removed]",
      "text/plain": [
       "<Figure size 504x432 with 2 Axes>"
      ]
     },
     "metadata": {
      "needs_background": "light"
     },
     "output_type": "display_data"
    },
    {
     "name": "stdout",
     "output_type": "stream",
     "text": [
      "Classification Report\n",
      "              precision    recall  f1-score   support\n",
      "\n",
      "           0       1.00      0.67      0.80         3\n",
      "           1       0.86      1.00      0.92         6\n",
      "           2       1.00      0.67      0.80         3\n",
      "           3       0.00      0.00      0.00         0\n",
      "\n",
      "    accuracy                           0.83        12\n",
      "   macro avg       0.71      0.58      0.63        12\n",
      "weighted avg       0.93      0.83      0.86        12\n",
      "\n"
     ]
    },
    {
     "name": "stderr",
     "output_type": "stream",
     "text": [
      "C:\\Users\\facut\\anaconda3\\lib\\site-packages\\sklearn\\metrics\\_classification.py:1318: UndefinedMetricWarning: Recall and F-score are ill-defined and being set to 0.0 in labels with no true samples. Use `zero_division` parameter to control this behavior.\n",
      "  _warn_prf(average, modifier, msg_start, len(result))\n",
      "C:\\Users\\facut\\anaconda3\\lib\\site-packages\\sklearn\\metrics\\_classification.py:1318: UndefinedMetricWarning: Recall and F-score are ill-defined and being set to 0.0 in labels with no true samples. Use `zero_division` parameter to control this behavior.\n",
      "  _warn_prf(average, modifier, msg_start, len(result))\n",
      "C:\\Users\\facut\\anaconda3\\lib\\site-packages\\sklearn\\metrics\\_classification.py:1318: UndefinedMetricWarning: Recall and F-score are ill-defined and being set to 0.0 in labels with no true samples. Use `zero_division` parameter to control this behavior.\n",
      "  _warn_prf(average, modifier, msg_start, len(result))\n"
     ]
    }
   ],
   "source": [
    "import pandas as pd\n",
    "import seaborn as sns\n",
    "import matplotlib.pyplot as plt\n",
    "from sklearn.metrics import confusion_matrix, classification_report\n",
    "\n",
    "def print_confusion_matrix(y_true, y_pred, report=True):\n",
    "    labels = sorted(list(set(y_true)))\n",
    "    cmx_data = confusion_matrix(y_true, y_pred, labels=labels)\n",
    "    \n",
    "    df_cmx = pd.DataFrame(cmx_data, index=labels, columns=labels)\n",
    " \n",
    "    fig, ax = plt.subplots(figsize=(7, 6))\n",
    "    sns.heatmap(df_cmx, annot=True, fmt='g' ,square=False)\n",
    "    ax.set_ylim(len(set(y_true)), 0)\n",
    "    plt.show()\n",
    "    \n",
    "    if report:\n",
    "        print('Classification Report')\n",
    "        print(classification_report(y_test, y_pred))\n",
    "\n",
    "Y_pred = model.predict(X_test)\n",
    "y_pred = np.argmax(Y_pred, axis=1)\n",
    "\n",
    "print_confusion_matrix(y_test, y_pred)"
   ]
  },
  {
   "cell_type": "markdown",
   "metadata": {
    "id": "FNP6aqzc9hE5"
   },
   "source": [
    "# Convert to model for Tensorflow-Lite"
   ]
  },
  {
   "cell_type": "code",
   "execution_count": 16,
   "metadata": {
    "id": "ODjnYyld9hE6"
   },
   "outputs": [],
   "source": [
    "# Save as a model dedicated to inference\n",
    "model.save(model_save_path, include_optimizer=False)"
   ]
  },
  {
   "cell_type": "code",
   "execution_count": 17,
   "metadata": {
    "colab": {
     "base_uri": "https://localhost:8080/"
    },
    "id": "zRfuK8Y59hE6",
    "outputId": "a4ca585c-b5d5-4244-8291-8674063209bb"
   },
   "outputs": [
    {
     "name": "stdout",
     "output_type": "stream",
     "text": [
      "INFO:tensorflow:Assets written to: C:\\Users\\facut\\AppData\\Local\\Temp\\tmp80cj6aub\\assets\n"
     ]
    },
    {
     "data": {
      "text/plain": [
       "4896"
      ]
     },
     "execution_count": 17,
     "metadata": {},
     "output_type": "execute_result"
    }
   ],
   "source": [
    "# Transform model (quantization)\n",
    "\n",
    "converter = tf.lite.TFLiteConverter.from_keras_model(model)\n",
    "converter.optimizations = [tf.lite.Optimize.DEFAULT]\n",
    "tflite_quantized_model = converter.convert()\n",
    "\n",
    "open(tflite_save_path, 'wb').write(tflite_quantized_model)"
   ]
  },
  {
   "cell_type": "markdown",
   "metadata": {
    "id": "CHBPBXdx9hE6"
   },
   "source": [
    "# Inference test"
   ]
  },
  {
   "cell_type": "code",
   "execution_count": 18,
   "metadata": {
    "id": "mGAzLocO9hE7"
   },
   "outputs": [],
   "source": [
    "interpreter = tf.lite.Interpreter(model_path=tflite_save_path)\n",
    "interpreter.allocate_tensors()"
   ]
  },
  {
   "cell_type": "code",
   "execution_count": 19,
   "metadata": {
    "id": "oQuDK8YS9hE7"
   },
   "outputs": [],
   "source": [
    "# Get I / O tensor\n",
    "input_details = interpreter.get_input_details()\n",
    "output_details = interpreter.get_output_details()"
   ]
  },
  {
   "cell_type": "code",
   "execution_count": 20,
   "metadata": {
    "id": "2_ixAf_l9hE7"
   },
   "outputs": [],
   "source": [
    "interpreter.set_tensor(input_details[0]['index'], np.array([X_test[0]]))"
   ]
  },
  {
   "cell_type": "code",
   "execution_count": 21,
   "metadata": {
    "colab": {
     "base_uri": "https://localhost:8080/"
    },
    "id": "s4FoAnuc9hE7",
    "outputId": "91f18257-8d8b-4ef3-c558-e9b5f94fabbf",
    "scrolled": true
   },
   "outputs": [
    {
     "name": "stdout",
     "output_type": "stream",
     "text": [
      "CPU times: total: 0 ns\n",
      "Wall time: 0 ns\n"
     ]
    }
   ],
   "source": [
    "%%time\n",
    "# Inference implementation\n",
    "interpreter.invoke()\n",
    "tflite_results = interpreter.get_tensor(output_details[0]['index'])"
   ]
  },
  {
   "cell_type": "code",
   "execution_count": 22,
   "metadata": {
    "colab": {
     "base_uri": "https://localhost:8080/"
    },
    "id": "vONjp19J9hE8",
    "outputId": "77205e24-fd00-42c4-f7b6-e06e527c2cba"
   },
   "outputs": [
    {
     "name": "stdout",
     "output_type": "stream",
     "text": [
      "[3.3073325e-04 6.0642713e-01 3.8700622e-01 6.2359492e-03]\n",
      "1\n"
     ]
    }
   ],
   "source": [
    "print(np.squeeze(tflite_results))\n",
    "print(np.argmax(np.squeeze(tflite_results)))"
   ]
  }
 ],
 "metadata": {
  "accelerator": "GPU",
  "colab": {
   "collapsed_sections": [],
   "name": "keypoint_classification_EN.ipynb",
   "provenance": [],
   "toc_visible": true
  },
  "kernelspec": {
   "display_name": "Python 3 (ipykernel)",
   "language": "python",
   "name": "python3"
  },
  "language_info": {
   "codemirror_mode": {
    "name": "ipython",
    "version": 3
   },
   "file_extension": ".py",
   "mimetype": "text/x-python",
   "name": "python",
   "nbconvert_exporter": "python",
   "pygments_lexer": "ipython3",
   "version": "3.9.12"
  },
  "vscode": {
   "interpreter": {
    "hash": "27c6baa97a892574197f957091cb3aaff94327548298875bfab569c25874bebe"
   }
  }
 },
 "nbformat": 4,
 "nbformat_minor": 1
}
