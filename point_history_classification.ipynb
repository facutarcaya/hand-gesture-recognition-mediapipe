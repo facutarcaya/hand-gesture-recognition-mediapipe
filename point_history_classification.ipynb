{
 "cells": [
  {
   "cell_type": "code",
   "execution_count": 1,
   "metadata": {},
   "outputs": [],
   "source": [
    "import csv\n",
    "\n",
    "import numpy as np\n",
    "import tensorflow as tf\n",
    "from sklearn.model_selection import train_test_split\n",
    "\n",
    "RANDOM_SEED = 42"
   ]
  },
  {
   "cell_type": "markdown",
   "metadata": {},
   "source": [
    "# 各パス指定"
   ]
  },
  {
   "cell_type": "code",
   "execution_count": 2,
   "metadata": {},
   "outputs": [],
   "source": [
    "dataset = 'model/point_history_classifier/point_history.csv'\n",
    "model_save_path = 'model/point_history_classifier/point_history_classifier.hdf5'"
   ]
  },
  {
   "cell_type": "markdown",
   "metadata": {},
   "source": [
    "# 分類数設定"
   ]
  },
  {
   "cell_type": "code",
   "execution_count": 3,
   "metadata": {},
   "outputs": [],
   "source": [
    "NUM_CLASSES = 3"
   ]
  },
  {
   "cell_type": "markdown",
   "metadata": {},
   "source": [
    "# 入力長"
   ]
  },
  {
   "cell_type": "code",
   "execution_count": 4,
   "metadata": {},
   "outputs": [],
   "source": [
    "TIME_STEPS = 16\n",
    "DIMENSION = 2\n",
    "NUM_LANDMARKS = 42"
   ]
  },
  {
   "cell_type": "markdown",
   "metadata": {},
   "source": [
    "# 学習データ読み込み"
   ]
  },
  {
   "cell_type": "code",
   "execution_count": 5,
   "metadata": {},
   "outputs": [],
   "source": [
    "X_dataset = np.loadtxt(dataset, delimiter=',', dtype='float32', usecols=list(range(1, (TIME_STEPS * DIMENSION * NUM_LANDMARKS) + 1)))"
   ]
  },
  {
   "cell_type": "code",
   "execution_count": 6,
   "metadata": {},
   "outputs": [],
   "source": [
    "y_dataset = np.loadtxt(dataset, delimiter=',', dtype='int32', usecols=(0))"
   ]
  },
  {
   "cell_type": "code",
   "execution_count": 7,
   "metadata": {},
   "outputs": [],
   "source": [
    "X_train, X_test, y_train, y_test = train_test_split(X_dataset, y_dataset, train_size=0.75, random_state=RANDOM_SEED)"
   ]
  },
  {
   "cell_type": "markdown",
   "metadata": {},
   "source": [
    "# モデル構築"
   ]
  },
  {
   "cell_type": "code",
   "execution_count": 8,
   "metadata": {},
   "outputs": [],
   "source": [
    "use_lstm = False\n",
    "model = None\n",
    "\n",
    "if use_lstm:\n",
    "    model = tf.keras.models.Sequential([\n",
    "        tf.keras.layers.InputLayer(input_shape=(TIME_STEPS * DIMENSION * NUM_LANDMARKS, )),\n",
    "        tf.keras.layers.Reshape((TIME_STEPS, DIMENSION, NUM_LANDMARKS), input_shape=(TIME_STEPS * DIMENSION * NUM_LANDMARKS, )), \n",
    "        tf.keras.layers.Dropout(0.2),\n",
    "        tf.keras.layers.LSTM(16, input_shape=[TIME_STEPS, DIMENSION, NUM_LANDMARKS]),\n",
    "        tf.keras.layers.Dropout(0.5),\n",
    "        tf.keras.layers.Dense(10, activation='relu'),\n",
    "        tf.keras.layers.Dense(NUM_CLASSES, activation='softmax')\n",
    "    ])\n",
    "else:\n",
    "    model = tf.keras.models.Sequential([\n",
    "        tf.keras.layers.InputLayer(input_shape=(TIME_STEPS * DIMENSION * NUM_LANDMARKS, )),\n",
    "        tf.keras.layers.Dropout(0.2),\n",
    "        tf.keras.layers.Dense(24, activation='relu'),\n",
    "        tf.keras.layers.Dropout(0.5),\n",
    "        tf.keras.layers.Dense(10, activation='relu'),\n",
    "        tf.keras.layers.Dense(NUM_CLASSES, activation='softmax')\n",
    "    ])"
   ]
  },
  {
   "cell_type": "code",
   "execution_count": 9,
   "metadata": {},
   "outputs": [
    {
     "name": "stdout",
     "output_type": "stream",
     "text": [
      "Model: \"sequential\"\n",
      "_________________________________________________________________\n",
      " Layer (type)                Output Shape              Param #   \n",
      "=================================================================\n",
      " dropout (Dropout)           (None, 1344)              0         \n",
      "                                                                 \n",
      " dense (Dense)               (None, 24)                32280     \n",
      "                                                                 \n",
      " dropout_1 (Dropout)         (None, 24)                0         \n",
      "                                                                 \n",
      " dense_1 (Dense)             (None, 10)                250       \n",
      "                                                                 \n",
      " dense_2 (Dense)             (None, 3)                 33        \n",
      "                                                                 \n",
      "=================================================================\n",
      "Total params: 32,563\n",
      "Trainable params: 32,563\n",
      "Non-trainable params: 0\n",
      "_________________________________________________________________\n"
     ]
    }
   ],
   "source": [
    "model.summary()  # tf.keras.utils.plot_model(model, show_shapes=True)"
   ]
  },
  {
   "cell_type": "code",
   "execution_count": 10,
   "metadata": {},
   "outputs": [],
   "source": [
    "# モデルチェックポイントのコールバック\n",
    "cp_callback = tf.keras.callbacks.ModelCheckpoint(\n",
    "    model_save_path, verbose=1, save_weights_only=False)\n",
    "# 早期打ち切り用コールバック\n",
    "es_callback = tf.keras.callbacks.EarlyStopping(patience=20, verbose=1)"
   ]
  },
  {
   "cell_type": "code",
   "execution_count": 11,
   "metadata": {},
   "outputs": [],
   "source": [
    "# モデルコンパイル\n",
    "model.compile(\n",
    "    optimizer='adam',\n",
    "    loss='sparse_categorical_crossentropy',\n",
    "    metrics=['accuracy']\n",
    ")"
   ]
  },
  {
   "cell_type": "markdown",
   "metadata": {},
   "source": [
    "# モデル訓練"
   ]
  },
  {
   "cell_type": "code",
   "execution_count": 12,
   "metadata": {
    "scrolled": true
   },
   "outputs": [
    {
     "name": "stdout",
     "output_type": "stream",
     "text": [
      "Epoch 1/1000\n",
      "1/1 [==============================] - ETA: 0s - loss: 1.2334 - accuracy: 0.2500\n",
      "Epoch 1: saving model to model/point_history_classifier\\point_history_classifier.hdf5\n",
      "1/1 [==============================] - 1s 926ms/step - loss: 1.2334 - accuracy: 0.2500 - val_loss: 0.8765 - val_accuracy: 0.7500\n",
      "Epoch 2/1000\n",
      "1/1 [==============================] - ETA: 0s - loss: 1.0023 - accuracy: 0.5000\n",
      "Epoch 2: saving model to model/point_history_classifier\\point_history_classifier.hdf5\n",
      "1/1 [==============================] - 0s 59ms/step - loss: 1.0023 - accuracy: 0.5000 - val_loss: 0.7527 - val_accuracy: 0.7500\n",
      "Epoch 3/1000\n",
      "1/1 [==============================] - ETA: 0s - loss: 1.0895 - accuracy: 0.5000\n",
      "Epoch 3: saving model to model/point_history_classifier\\point_history_classifier.hdf5\n",
      "1/1 [==============================] - 0s 62ms/step - loss: 1.0895 - accuracy: 0.5000 - val_loss: 0.6663 - val_accuracy: 0.7500\n",
      "Epoch 4/1000\n",
      "1/1 [==============================] - ETA: 0s - loss: 0.7821 - accuracy: 0.5833\n",
      "Epoch 4: saving model to model/point_history_classifier\\point_history_classifier.hdf5\n",
      "1/1 [==============================] - 0s 54ms/step - loss: 0.7821 - accuracy: 0.5833 - val_loss: 0.6129 - val_accuracy: 0.7500\n",
      "Epoch 5/1000\n",
      "1/1 [==============================] - ETA: 0s - loss: 0.8068 - accuracy: 0.5833\n",
      "Epoch 5: saving model to model/point_history_classifier\\point_history_classifier.hdf5\n",
      "1/1 [==============================] - 0s 49ms/step - loss: 0.8068 - accuracy: 0.5833 - val_loss: 0.5690 - val_accuracy: 0.7500\n",
      "Epoch 6/1000\n",
      "1/1 [==============================] - ETA: 0s - loss: 0.7923 - accuracy: 0.5833\n",
      "Epoch 6: saving model to model/point_history_classifier\\point_history_classifier.hdf5\n",
      "1/1 [==============================] - 0s 49ms/step - loss: 0.7923 - accuracy: 0.5833 - val_loss: 0.5369 - val_accuracy: 0.7500\n",
      "Epoch 7/1000\n",
      "1/1 [==============================] - ETA: 0s - loss: 0.7537 - accuracy: 0.5833\n",
      "Epoch 7: saving model to model/point_history_classifier\\point_history_classifier.hdf5\n",
      "1/1 [==============================] - 0s 51ms/step - loss: 0.7537 - accuracy: 0.5833 - val_loss: 0.5084 - val_accuracy: 0.7500\n",
      "Epoch 8/1000\n",
      "1/1 [==============================] - ETA: 0s - loss: 0.7502 - accuracy: 0.5000\n",
      "Epoch 8: saving model to model/point_history_classifier\\point_history_classifier.hdf5\n",
      "1/1 [==============================] - 0s 50ms/step - loss: 0.7502 - accuracy: 0.5000 - val_loss: 0.4818 - val_accuracy: 0.7500\n",
      "Epoch 9/1000\n",
      "1/1 [==============================] - ETA: 0s - loss: 0.7629 - accuracy: 0.5833\n",
      "Epoch 9: saving model to model/point_history_classifier\\point_history_classifier.hdf5\n",
      "1/1 [==============================] - 0s 49ms/step - loss: 0.7629 - accuracy: 0.5833 - val_loss: 0.4594 - val_accuracy: 0.7500\n",
      "Epoch 10/1000\n",
      "1/1 [==============================] - ETA: 0s - loss: 0.7782 - accuracy: 0.5833\n",
      "Epoch 10: saving model to model/point_history_classifier\\point_history_classifier.hdf5\n",
      "1/1 [==============================] - 0s 51ms/step - loss: 0.7782 - accuracy: 0.5833 - val_loss: 0.4394 - val_accuracy: 0.7500\n",
      "Epoch 11/1000\n",
      "1/1 [==============================] - ETA: 0s - loss: 0.8401 - accuracy: 0.4167\n",
      "Epoch 11: saving model to model/point_history_classifier\\point_history_classifier.hdf5\n",
      "1/1 [==============================] - 0s 52ms/step - loss: 0.8401 - accuracy: 0.4167 - val_loss: 0.4227 - val_accuracy: 0.7500\n",
      "Epoch 12/1000\n",
      "1/1 [==============================] - ETA: 0s - loss: 0.6468 - accuracy: 0.5833\n",
      "Epoch 12: saving model to model/point_history_classifier\\point_history_classifier.hdf5\n",
      "1/1 [==============================] - 0s 53ms/step - loss: 0.6468 - accuracy: 0.5833 - val_loss: 0.4092 - val_accuracy: 0.7500\n",
      "Epoch 13/1000\n",
      "1/1 [==============================] - ETA: 0s - loss: 0.7601 - accuracy: 0.5833\n",
      "Epoch 13: saving model to model/point_history_classifier\\point_history_classifier.hdf5\n",
      "1/1 [==============================] - 0s 51ms/step - loss: 0.7601 - accuracy: 0.5833 - val_loss: 0.4013 - val_accuracy: 0.7500\n",
      "Epoch 14/1000\n",
      "1/1 [==============================] - ETA: 0s - loss: 0.6775 - accuracy: 0.5833\n",
      "Epoch 14: saving model to model/point_history_classifier\\point_history_classifier.hdf5\n",
      "1/1 [==============================] - 0s 54ms/step - loss: 0.6775 - accuracy: 0.5833 - val_loss: 0.3950 - val_accuracy: 0.7500\n",
      "Epoch 15/1000\n",
      "1/1 [==============================] - ETA: 0s - loss: 0.7115 - accuracy: 0.5000\n",
      "Epoch 15: saving model to model/point_history_classifier\\point_history_classifier.hdf5\n",
      "1/1 [==============================] - 0s 67ms/step - loss: 0.7115 - accuracy: 0.5000 - val_loss: 0.3929 - val_accuracy: 0.7500\n",
      "Epoch 16/1000\n",
      "1/1 [==============================] - ETA: 0s - loss: 0.6192 - accuracy: 0.5833\n",
      "Epoch 16: saving model to model/point_history_classifier\\point_history_classifier.hdf5\n",
      "1/1 [==============================] - 0s 51ms/step - loss: 0.6192 - accuracy: 0.5833 - val_loss: 0.3887 - val_accuracy: 0.7500\n",
      "Epoch 17/1000\n",
      "1/1 [==============================] - ETA: 0s - loss: 0.7776 - accuracy: 0.5000\n",
      "Epoch 17: saving model to model/point_history_classifier\\point_history_classifier.hdf5\n",
      "1/1 [==============================] - 0s 51ms/step - loss: 0.7776 - accuracy: 0.5000 - val_loss: 0.3859 - val_accuracy: 0.7500\n",
      "Epoch 18/1000\n",
      "1/1 [==============================] - ETA: 0s - loss: 0.7348 - accuracy: 0.5000\n",
      "Epoch 18: saving model to model/point_history_classifier\\point_history_classifier.hdf5\n",
      "1/1 [==============================] - 0s 50ms/step - loss: 0.7348 - accuracy: 0.5000 - val_loss: 0.3843 - val_accuracy: 0.7500\n",
      "Epoch 19/1000\n",
      "1/1 [==============================] - ETA: 0s - loss: 0.5989 - accuracy: 0.6667\n",
      "Epoch 19: saving model to model/point_history_classifier\\point_history_classifier.hdf5\n",
      "1/1 [==============================] - 0s 49ms/step - loss: 0.5989 - accuracy: 0.6667 - val_loss: 0.3822 - val_accuracy: 0.7500\n",
      "Epoch 20/1000\n",
      "1/1 [==============================] - ETA: 0s - loss: 0.6894 - accuracy: 0.7500\n",
      "Epoch 20: saving model to model/point_history_classifier\\point_history_classifier.hdf5\n",
      "1/1 [==============================] - 0s 50ms/step - loss: 0.6894 - accuracy: 0.7500 - val_loss: 0.3797 - val_accuracy: 0.7500\n",
      "Epoch 21/1000\n",
      "1/1 [==============================] - ETA: 0s - loss: 0.6465 - accuracy: 0.5833\n",
      "Epoch 21: saving model to model/point_history_classifier\\point_history_classifier.hdf5\n",
      "1/1 [==============================] - 0s 50ms/step - loss: 0.6465 - accuracy: 0.5833 - val_loss: 0.3779 - val_accuracy: 0.7500\n",
      "Epoch 22/1000\n",
      "1/1 [==============================] - ETA: 0s - loss: 0.6324 - accuracy: 0.5833\n",
      "Epoch 22: saving model to model/point_history_classifier\\point_history_classifier.hdf5\n",
      "1/1 [==============================] - 0s 50ms/step - loss: 0.6324 - accuracy: 0.5833 - val_loss: 0.3773 - val_accuracy: 0.7500\n",
      "Epoch 23/1000\n",
      "1/1 [==============================] - ETA: 0s - loss: 0.5685 - accuracy: 0.6667\n",
      "Epoch 23: saving model to model/point_history_classifier\\point_history_classifier.hdf5\n",
      "1/1 [==============================] - 0s 51ms/step - loss: 0.5685 - accuracy: 0.6667 - val_loss: 0.3765 - val_accuracy: 0.7500\n",
      "Epoch 24/1000\n",
      "1/1 [==============================] - ETA: 0s - loss: 0.6338 - accuracy: 0.5833\n",
      "Epoch 24: saving model to model/point_history_classifier\\point_history_classifier.hdf5\n",
      "1/1 [==============================] - 0s 53ms/step - loss: 0.6338 - accuracy: 0.5833 - val_loss: 0.3755 - val_accuracy: 0.7500\n",
      "Epoch 25/1000\n",
      "1/1 [==============================] - ETA: 0s - loss: 0.6275 - accuracy: 0.5833\n",
      "Epoch 25: saving model to model/point_history_classifier\\point_history_classifier.hdf5\n",
      "1/1 [==============================] - 0s 49ms/step - loss: 0.6275 - accuracy: 0.5833 - val_loss: 0.3753 - val_accuracy: 0.7500\n",
      "Epoch 26/1000\n",
      "1/1 [==============================] - ETA: 0s - loss: 0.6501 - accuracy: 0.5833\n",
      "Epoch 26: saving model to model/point_history_classifier\\point_history_classifier.hdf5\n",
      "1/1 [==============================] - 0s 51ms/step - loss: 0.6501 - accuracy: 0.5833 - val_loss: 0.3752 - val_accuracy: 0.7500\n",
      "Epoch 27/1000\n",
      "1/1 [==============================] - ETA: 0s - loss: 0.6098 - accuracy: 0.6667\n",
      "Epoch 27: saving model to model/point_history_classifier\\point_history_classifier.hdf5\n"
     ]
    },
    {
     "name": "stdout",
     "output_type": "stream",
     "text": [
      "1/1 [==============================] - 0s 51ms/step - loss: 0.6098 - accuracy: 0.6667 - val_loss: 0.3735 - val_accuracy: 0.7500\n",
      "Epoch 28/1000\n",
      "1/1 [==============================] - ETA: 0s - loss: 0.6456 - accuracy: 0.5833\n",
      "Epoch 28: saving model to model/point_history_classifier\\point_history_classifier.hdf5\n",
      "1/1 [==============================] - 0s 50ms/step - loss: 0.6456 - accuracy: 0.5833 - val_loss: 0.3723 - val_accuracy: 0.7500\n",
      "Epoch 29/1000\n",
      "1/1 [==============================] - ETA: 0s - loss: 0.5997 - accuracy: 0.6667\n",
      "Epoch 29: saving model to model/point_history_classifier\\point_history_classifier.hdf5\n",
      "1/1 [==============================] - 0s 49ms/step - loss: 0.5997 - accuracy: 0.6667 - val_loss: 0.3709 - val_accuracy: 0.7500\n",
      "Epoch 30/1000\n",
      "1/1 [==============================] - ETA: 0s - loss: 0.6346 - accuracy: 0.6667\n",
      "Epoch 30: saving model to model/point_history_classifier\\point_history_classifier.hdf5\n",
      "1/1 [==============================] - 0s 52ms/step - loss: 0.6346 - accuracy: 0.6667 - val_loss: 0.3700 - val_accuracy: 0.7500\n",
      "Epoch 31/1000\n",
      "1/1 [==============================] - ETA: 0s - loss: 0.6593 - accuracy: 0.5000\n",
      "Epoch 31: saving model to model/point_history_classifier\\point_history_classifier.hdf5\n",
      "1/1 [==============================] - 0s 52ms/step - loss: 0.6593 - accuracy: 0.5000 - val_loss: 0.3697 - val_accuracy: 0.7500\n",
      "Epoch 32/1000\n",
      "1/1 [==============================] - ETA: 0s - loss: 0.6516 - accuracy: 0.6667\n",
      "Epoch 32: saving model to model/point_history_classifier\\point_history_classifier.hdf5\n",
      "1/1 [==============================] - 0s 52ms/step - loss: 0.6516 - accuracy: 0.6667 - val_loss: 0.3687 - val_accuracy: 0.7500\n",
      "Epoch 33/1000\n",
      "1/1 [==============================] - ETA: 0s - loss: 0.5981 - accuracy: 0.5000\n",
      "Epoch 33: saving model to model/point_history_classifier\\point_history_classifier.hdf5\n",
      "1/1 [==============================] - 0s 51ms/step - loss: 0.5981 - accuracy: 0.5000 - val_loss: 0.3669 - val_accuracy: 0.7500\n",
      "Epoch 34/1000\n",
      "1/1 [==============================] - ETA: 0s - loss: 0.5940 - accuracy: 0.6667\n",
      "Epoch 34: saving model to model/point_history_classifier\\point_history_classifier.hdf5\n",
      "1/1 [==============================] - 0s 52ms/step - loss: 0.5940 - accuracy: 0.6667 - val_loss: 0.3651 - val_accuracy: 0.7500\n",
      "Epoch 35/1000\n",
      "1/1 [==============================] - ETA: 0s - loss: 0.5460 - accuracy: 0.5833\n",
      "Epoch 35: saving model to model/point_history_classifier\\point_history_classifier.hdf5\n",
      "1/1 [==============================] - 0s 61ms/step - loss: 0.5460 - accuracy: 0.5833 - val_loss: 0.3636 - val_accuracy: 0.7500\n",
      "Epoch 36/1000\n",
      "1/1 [==============================] - ETA: 0s - loss: 0.5230 - accuracy: 0.6667\n",
      "Epoch 36: saving model to model/point_history_classifier\\point_history_classifier.hdf5\n",
      "1/1 [==============================] - 0s 53ms/step - loss: 0.5230 - accuracy: 0.6667 - val_loss: 0.3617 - val_accuracy: 0.7500\n",
      "Epoch 37/1000\n",
      "1/1 [==============================] - ETA: 0s - loss: 0.6489 - accuracy: 0.5833\n",
      "Epoch 37: saving model to model/point_history_classifier\\point_history_classifier.hdf5\n",
      "1/1 [==============================] - 0s 54ms/step - loss: 0.6489 - accuracy: 0.5833 - val_loss: 0.3602 - val_accuracy: 0.7500\n",
      "Epoch 38/1000\n",
      "1/1 [==============================] - ETA: 0s - loss: 0.6287 - accuracy: 0.6667\n",
      "Epoch 38: saving model to model/point_history_classifier\\point_history_classifier.hdf5\n",
      "1/1 [==============================] - 0s 49ms/step - loss: 0.6287 - accuracy: 0.6667 - val_loss: 0.3585 - val_accuracy: 0.7500\n",
      "Epoch 39/1000\n",
      "1/1 [==============================] - ETA: 0s - loss: 0.6677 - accuracy: 0.5000\n",
      "Epoch 39: saving model to model/point_history_classifier\\point_history_classifier.hdf5\n",
      "1/1 [==============================] - 0s 53ms/step - loss: 0.6677 - accuracy: 0.5000 - val_loss: 0.3575 - val_accuracy: 0.7500\n",
      "Epoch 40/1000\n",
      "1/1 [==============================] - ETA: 0s - loss: 0.5605 - accuracy: 0.7500\n",
      "Epoch 40: saving model to model/point_history_classifier\\point_history_classifier.hdf5\n",
      "1/1 [==============================] - 0s 50ms/step - loss: 0.5605 - accuracy: 0.7500 - val_loss: 0.3560 - val_accuracy: 0.7500\n",
      "Epoch 41/1000\n",
      "1/1 [==============================] - ETA: 0s - loss: 0.6321 - accuracy: 0.5833\n",
      "Epoch 41: saving model to model/point_history_classifier\\point_history_classifier.hdf5\n",
      "1/1 [==============================] - 0s 50ms/step - loss: 0.6321 - accuracy: 0.5833 - val_loss: 0.3549 - val_accuracy: 0.7500\n",
      "Epoch 42/1000\n",
      "1/1 [==============================] - ETA: 0s - loss: 0.5725 - accuracy: 0.5833\n",
      "Epoch 42: saving model to model/point_history_classifier\\point_history_classifier.hdf5\n",
      "1/1 [==============================] - 0s 51ms/step - loss: 0.5725 - accuracy: 0.5833 - val_loss: 0.3537 - val_accuracy: 0.7500\n",
      "Epoch 43/1000\n",
      "1/1 [==============================] - ETA: 0s - loss: 0.5535 - accuracy: 0.6667\n",
      "Epoch 43: saving model to model/point_history_classifier\\point_history_classifier.hdf5\n",
      "1/1 [==============================] - 0s 51ms/step - loss: 0.5535 - accuracy: 0.6667 - val_loss: 0.3524 - val_accuracy: 0.7500\n",
      "Epoch 44/1000\n",
      "1/1 [==============================] - ETA: 0s - loss: 0.5370 - accuracy: 0.6667\n",
      "Epoch 44: saving model to model/point_history_classifier\\point_history_classifier.hdf5\n",
      "1/1 [==============================] - 0s 51ms/step - loss: 0.5370 - accuracy: 0.6667 - val_loss: 0.3509 - val_accuracy: 0.7500\n",
      "Epoch 45/1000\n",
      "1/1 [==============================] - ETA: 0s - loss: 0.5834 - accuracy: 0.5833\n",
      "Epoch 45: saving model to model/point_history_classifier\\point_history_classifier.hdf5\n",
      "1/1 [==============================] - 0s 59ms/step - loss: 0.5834 - accuracy: 0.5833 - val_loss: 0.3495 - val_accuracy: 0.7500\n",
      "Epoch 46/1000\n",
      "1/1 [==============================] - ETA: 0s - loss: 0.5524 - accuracy: 0.6667\n",
      "Epoch 46: saving model to model/point_history_classifier\\point_history_classifier.hdf5\n",
      "1/1 [==============================] - 0s 50ms/step - loss: 0.5524 - accuracy: 0.6667 - val_loss: 0.3481 - val_accuracy: 0.7500\n",
      "Epoch 47/1000\n",
      "1/1 [==============================] - ETA: 0s - loss: 0.5649 - accuracy: 0.6667\n",
      "Epoch 47: saving model to model/point_history_classifier\\point_history_classifier.hdf5\n",
      "1/1 [==============================] - 0s 59ms/step - loss: 0.5649 - accuracy: 0.6667 - val_loss: 0.3467 - val_accuracy: 0.7500\n",
      "Epoch 48/1000\n",
      "1/1 [==============================] - ETA: 0s - loss: 0.5310 - accuracy: 0.7500\n",
      "Epoch 48: saving model to model/point_history_classifier\\point_history_classifier.hdf5\n",
      "1/1 [==============================] - 0s 50ms/step - loss: 0.5310 - accuracy: 0.7500 - val_loss: 0.3450 - val_accuracy: 0.7500\n",
      "Epoch 49/1000\n",
      "1/1 [==============================] - ETA: 0s - loss: 0.6196 - accuracy: 0.6667\n",
      "Epoch 49: saving model to model/point_history_classifier\\point_history_classifier.hdf5\n",
      "1/1 [==============================] - 0s 51ms/step - loss: 0.6196 - accuracy: 0.6667 - val_loss: 0.3434 - val_accuracy: 0.7500\n",
      "Epoch 50/1000\n",
      "1/1 [==============================] - ETA: 0s - loss: 0.5684 - accuracy: 0.7500\n",
      "Epoch 50: saving model to model/point_history_classifier\\point_history_classifier.hdf5\n",
      "1/1 [==============================] - 0s 52ms/step - loss: 0.5684 - accuracy: 0.7500 - val_loss: 0.3419 - val_accuracy: 0.7500\n",
      "Epoch 51/1000\n",
      "1/1 [==============================] - ETA: 0s - loss: 0.6769 - accuracy: 0.5833\n",
      "Epoch 51: saving model to model/point_history_classifier\\point_history_classifier.hdf5\n",
      "1/1 [==============================] - 0s 63ms/step - loss: 0.6769 - accuracy: 0.5833 - val_loss: 0.3407 - val_accuracy: 0.7500\n",
      "Epoch 52/1000\n",
      "1/1 [==============================] - ETA: 0s - loss: 0.5211 - accuracy: 0.6667\n",
      "Epoch 52: saving model to model/point_history_classifier\\point_history_classifier.hdf5\n",
      "1/1 [==============================] - 0s 50ms/step - loss: 0.5211 - accuracy: 0.6667 - val_loss: 0.3396 - val_accuracy: 0.7500\n",
      "Epoch 53/1000\n",
      "1/1 [==============================] - ETA: 0s - loss: 0.4912 - accuracy: 0.6667\n",
      "Epoch 53: saving model to model/point_history_classifier\\point_history_classifier.hdf5\n",
      "1/1 [==============================] - 0s 51ms/step - loss: 0.4912 - accuracy: 0.6667 - val_loss: 0.3384 - val_accuracy: 0.7500\n",
      "Epoch 54/1000\n"
     ]
    },
    {
     "name": "stdout",
     "output_type": "stream",
     "text": [
      "1/1 [==============================] - ETA: 0s - loss: 0.5269 - accuracy: 0.6667\n",
      "Epoch 54: saving model to model/point_history_classifier\\point_history_classifier.hdf5\n",
      "1/1 [==============================] - 0s 49ms/step - loss: 0.5269 - accuracy: 0.6667 - val_loss: 0.3373 - val_accuracy: 0.7500\n",
      "Epoch 55/1000\n",
      "1/1 [==============================] - ETA: 0s - loss: 0.5381 - accuracy: 0.5833\n",
      "Epoch 55: saving model to model/point_history_classifier\\point_history_classifier.hdf5\n",
      "1/1 [==============================] - 0s 53ms/step - loss: 0.5381 - accuracy: 0.5833 - val_loss: 0.3362 - val_accuracy: 0.7500\n",
      "Epoch 56/1000\n",
      "1/1 [==============================] - ETA: 0s - loss: 0.5342 - accuracy: 0.6667\n",
      "Epoch 56: saving model to model/point_history_classifier\\point_history_classifier.hdf5\n",
      "1/1 [==============================] - 0s 51ms/step - loss: 0.5342 - accuracy: 0.6667 - val_loss: 0.3352 - val_accuracy: 0.7500\n",
      "Epoch 57/1000\n",
      "1/1 [==============================] - ETA: 0s - loss: 0.6245 - accuracy: 0.5000\n",
      "Epoch 57: saving model to model/point_history_classifier\\point_history_classifier.hdf5\n",
      "1/1 [==============================] - 0s 52ms/step - loss: 0.6245 - accuracy: 0.5000 - val_loss: 0.3346 - val_accuracy: 0.7500\n",
      "Epoch 58/1000\n",
      "1/1 [==============================] - ETA: 0s - loss: 0.5469 - accuracy: 0.6667\n",
      "Epoch 58: saving model to model/point_history_classifier\\point_history_classifier.hdf5\n",
      "1/1 [==============================] - 0s 53ms/step - loss: 0.5469 - accuracy: 0.6667 - val_loss: 0.3341 - val_accuracy: 0.7500\n",
      "Epoch 59/1000\n",
      "1/1 [==============================] - ETA: 0s - loss: 0.5059 - accuracy: 0.6667\n",
      "Epoch 59: saving model to model/point_history_classifier\\point_history_classifier.hdf5\n",
      "1/1 [==============================] - 0s 52ms/step - loss: 0.5059 - accuracy: 0.6667 - val_loss: 0.3336 - val_accuracy: 0.7500\n",
      "Epoch 60/1000\n",
      "1/1 [==============================] - ETA: 0s - loss: 0.5402 - accuracy: 0.6667\n",
      "Epoch 60: saving model to model/point_history_classifier\\point_history_classifier.hdf5\n",
      "1/1 [==============================] - 0s 53ms/step - loss: 0.5402 - accuracy: 0.6667 - val_loss: 0.3332 - val_accuracy: 0.7500\n",
      "Epoch 61/1000\n",
      "1/1 [==============================] - ETA: 0s - loss: 0.5642 - accuracy: 0.5833\n",
      "Epoch 61: saving model to model/point_history_classifier\\point_history_classifier.hdf5\n",
      "1/1 [==============================] - 0s 52ms/step - loss: 0.5642 - accuracy: 0.5833 - val_loss: 0.3328 - val_accuracy: 0.7500\n",
      "Epoch 62/1000\n",
      "1/1 [==============================] - ETA: 0s - loss: 0.5533 - accuracy: 0.5833\n",
      "Epoch 62: saving model to model/point_history_classifier\\point_history_classifier.hdf5\n",
      "1/1 [==============================] - 0s 51ms/step - loss: 0.5533 - accuracy: 0.5833 - val_loss: 0.3326 - val_accuracy: 0.7500\n",
      "Epoch 63/1000\n",
      "1/1 [==============================] - ETA: 0s - loss: 0.5449 - accuracy: 0.6667\n",
      "Epoch 63: saving model to model/point_history_classifier\\point_history_classifier.hdf5\n",
      "1/1 [==============================] - 0s 57ms/step - loss: 0.5449 - accuracy: 0.6667 - val_loss: 0.3324 - val_accuracy: 0.7500\n",
      "Epoch 64/1000\n",
      "1/1 [==============================] - ETA: 0s - loss: 0.4974 - accuracy: 0.8333\n",
      "Epoch 64: saving model to model/point_history_classifier\\point_history_classifier.hdf5\n",
      "1/1 [==============================] - 0s 50ms/step - loss: 0.4974 - accuracy: 0.8333 - val_loss: 0.3321 - val_accuracy: 0.7500\n",
      "Epoch 65/1000\n",
      "1/1 [==============================] - ETA: 0s - loss: 0.4425 - accuracy: 0.8333\n",
      "Epoch 65: saving model to model/point_history_classifier\\point_history_classifier.hdf5\n",
      "1/1 [==============================] - 0s 50ms/step - loss: 0.4425 - accuracy: 0.8333 - val_loss: 0.3318 - val_accuracy: 0.7500\n",
      "Epoch 66/1000\n",
      "1/1 [==============================] - ETA: 0s - loss: 0.5370 - accuracy: 0.6667\n",
      "Epoch 66: saving model to model/point_history_classifier\\point_history_classifier.hdf5\n",
      "1/1 [==============================] - 0s 51ms/step - loss: 0.5370 - accuracy: 0.6667 - val_loss: 0.3313 - val_accuracy: 0.7500\n",
      "Epoch 67/1000\n",
      "1/1 [==============================] - ETA: 0s - loss: 0.5330 - accuracy: 0.7500\n",
      "Epoch 67: saving model to model/point_history_classifier\\point_history_classifier.hdf5\n",
      "1/1 [==============================] - 0s 52ms/step - loss: 0.5330 - accuracy: 0.7500 - val_loss: 0.3310 - val_accuracy: 0.7500\n",
      "Epoch 68/1000\n",
      "1/1 [==============================] - ETA: 0s - loss: 0.5608 - accuracy: 0.5833\n",
      "Epoch 68: saving model to model/point_history_classifier\\point_history_classifier.hdf5\n",
      "1/1 [==============================] - 0s 52ms/step - loss: 0.5608 - accuracy: 0.5833 - val_loss: 0.3308 - val_accuracy: 0.7500\n",
      "Epoch 69/1000\n",
      "1/1 [==============================] - ETA: 0s - loss: 0.5277 - accuracy: 0.5833\n",
      "Epoch 69: saving model to model/point_history_classifier\\point_history_classifier.hdf5\n",
      "1/1 [==============================] - 0s 54ms/step - loss: 0.5277 - accuracy: 0.5833 - val_loss: 0.3306 - val_accuracy: 0.7500\n",
      "Epoch 70/1000\n",
      "1/1 [==============================] - ETA: 0s - loss: 0.4732 - accuracy: 0.8333\n",
      "Epoch 70: saving model to model/point_history_classifier\\point_history_classifier.hdf5\n",
      "1/1 [==============================] - 0s 53ms/step - loss: 0.4732 - accuracy: 0.8333 - val_loss: 0.3302 - val_accuracy: 0.7500\n",
      "Epoch 71/1000\n",
      "1/1 [==============================] - ETA: 0s - loss: 0.4848 - accuracy: 0.6667\n",
      "Epoch 71: saving model to model/point_history_classifier\\point_history_classifier.hdf5\n",
      "1/1 [==============================] - 0s 52ms/step - loss: 0.4848 - accuracy: 0.6667 - val_loss: 0.3297 - val_accuracy: 0.7500\n",
      "Epoch 72/1000\n",
      "1/1 [==============================] - ETA: 0s - loss: 0.5631 - accuracy: 0.5833\n",
      "Epoch 72: saving model to model/point_history_classifier\\point_history_classifier.hdf5\n",
      "1/1 [==============================] - 0s 53ms/step - loss: 0.5631 - accuracy: 0.5833 - val_loss: 0.3295 - val_accuracy: 0.7500\n",
      "Epoch 73/1000\n",
      "1/1 [==============================] - ETA: 0s - loss: 0.6365 - accuracy: 0.5000\n",
      "Epoch 73: saving model to model/point_history_classifier\\point_history_classifier.hdf5\n",
      "1/1 [==============================] - 0s 50ms/step - loss: 0.6365 - accuracy: 0.5000 - val_loss: 0.3297 - val_accuracy: 0.7500\n",
      "Epoch 74/1000\n",
      "1/1 [==============================] - ETA: 0s - loss: 0.4537 - accuracy: 0.9167\n",
      "Epoch 74: saving model to model/point_history_classifier\\point_history_classifier.hdf5\n",
      "1/1 [==============================] - 0s 51ms/step - loss: 0.4537 - accuracy: 0.9167 - val_loss: 0.3297 - val_accuracy: 0.7500\n",
      "Epoch 75/1000\n",
      "1/1 [==============================] - ETA: 0s - loss: 0.4247 - accuracy: 0.8333\n",
      "Epoch 75: saving model to model/point_history_classifier\\point_history_classifier.hdf5\n",
      "1/1 [==============================] - 0s 52ms/step - loss: 0.4247 - accuracy: 0.8333 - val_loss: 0.3293 - val_accuracy: 0.7500\n",
      "Epoch 76/1000\n",
      "1/1 [==============================] - ETA: 0s - loss: 0.4596 - accuracy: 0.8333\n",
      "Epoch 76: saving model to model/point_history_classifier\\point_history_classifier.hdf5\n",
      "1/1 [==============================] - 0s 54ms/step - loss: 0.4596 - accuracy: 0.8333 - val_loss: 0.3288 - val_accuracy: 0.7500\n",
      "Epoch 77/1000\n",
      "1/1 [==============================] - ETA: 0s - loss: 0.4577 - accuracy: 0.6667\n",
      "Epoch 77: saving model to model/point_history_classifier\\point_history_classifier.hdf5\n",
      "1/1 [==============================] - 0s 53ms/step - loss: 0.4577 - accuracy: 0.6667 - val_loss: 0.3282 - val_accuracy: 0.7500\n",
      "Epoch 78/1000\n",
      "1/1 [==============================] - ETA: 0s - loss: 0.4584 - accuracy: 0.6667\n",
      "Epoch 78: saving model to model/point_history_classifier\\point_history_classifier.hdf5\n",
      "1/1 [==============================] - 0s 51ms/step - loss: 0.4584 - accuracy: 0.6667 - val_loss: 0.3277 - val_accuracy: 0.7500\n",
      "Epoch 79/1000\n",
      "1/1 [==============================] - ETA: 0s - loss: 0.5525 - accuracy: 0.6667\n",
      "Epoch 79: saving model to model/point_history_classifier\\point_history_classifier.hdf5\n",
      "1/1 [==============================] - 0s 50ms/step - loss: 0.5525 - accuracy: 0.6667 - val_loss: 0.3273 - val_accuracy: 0.7500\n",
      "Epoch 80/1000\n",
      "1/1 [==============================] - ETA: 0s - loss: 0.4514 - accuracy: 0.8333\n",
      "Epoch 80: saving model to model/point_history_classifier\\point_history_classifier.hdf5\n"
     ]
    },
    {
     "name": "stdout",
     "output_type": "stream",
     "text": [
      "1/1 [==============================] - 0s 52ms/step - loss: 0.4514 - accuracy: 0.8333 - val_loss: 0.3265 - val_accuracy: 0.7500\n",
      "Epoch 81/1000\n",
      "1/1 [==============================] - ETA: 0s - loss: 0.5132 - accuracy: 0.8333\n",
      "Epoch 81: saving model to model/point_history_classifier\\point_history_classifier.hdf5\n",
      "1/1 [==============================] - 0s 50ms/step - loss: 0.5132 - accuracy: 0.8333 - val_loss: 0.3259 - val_accuracy: 0.7500\n",
      "Epoch 82/1000\n",
      "1/1 [==============================] - ETA: 0s - loss: 0.6995 - accuracy: 0.5000\n",
      "Epoch 82: saving model to model/point_history_classifier\\point_history_classifier.hdf5\n",
      "1/1 [==============================] - 0s 52ms/step - loss: 0.6995 - accuracy: 0.5000 - val_loss: 0.3256 - val_accuracy: 0.7500\n",
      "Epoch 83/1000\n",
      "1/1 [==============================] - ETA: 0s - loss: 0.5288 - accuracy: 0.6667\n",
      "Epoch 83: saving model to model/point_history_classifier\\point_history_classifier.hdf5\n",
      "1/1 [==============================] - 0s 51ms/step - loss: 0.5288 - accuracy: 0.6667 - val_loss: 0.3255 - val_accuracy: 0.7500\n",
      "Epoch 84/1000\n",
      "1/1 [==============================] - ETA: 0s - loss: 0.6296 - accuracy: 0.5833\n",
      "Epoch 84: saving model to model/point_history_classifier\\point_history_classifier.hdf5\n",
      "1/1 [==============================] - 0s 49ms/step - loss: 0.6296 - accuracy: 0.5833 - val_loss: 0.3257 - val_accuracy: 0.7500\n",
      "Epoch 85/1000\n",
      "1/1 [==============================] - ETA: 0s - loss: 0.4917 - accuracy: 0.6667\n",
      "Epoch 85: saving model to model/point_history_classifier\\point_history_classifier.hdf5\n",
      "1/1 [==============================] - 0s 50ms/step - loss: 0.4917 - accuracy: 0.6667 - val_loss: 0.3259 - val_accuracy: 0.7500\n",
      "Epoch 86/1000\n",
      "1/1 [==============================] - ETA: 0s - loss: 0.4643 - accuracy: 0.9167\n",
      "Epoch 86: saving model to model/point_history_classifier\\point_history_classifier.hdf5\n",
      "1/1 [==============================] - 0s 50ms/step - loss: 0.4643 - accuracy: 0.9167 - val_loss: 0.3260 - val_accuracy: 0.7500\n",
      "Epoch 87/1000\n",
      "1/1 [==============================] - ETA: 0s - loss: 0.3991 - accuracy: 0.8333\n",
      "Epoch 87: saving model to model/point_history_classifier\\point_history_classifier.hdf5\n",
      "1/1 [==============================] - 0s 51ms/step - loss: 0.3991 - accuracy: 0.8333 - val_loss: 0.3260 - val_accuracy: 0.7500\n",
      "Epoch 88/1000\n",
      "1/1 [==============================] - ETA: 0s - loss: 0.5147 - accuracy: 0.6667\n",
      "Epoch 88: saving model to model/point_history_classifier\\point_history_classifier.hdf5\n",
      "1/1 [==============================] - 0s 54ms/step - loss: 0.5147 - accuracy: 0.6667 - val_loss: 0.3261 - val_accuracy: 1.0000\n",
      "Epoch 89/1000\n",
      "1/1 [==============================] - ETA: 0s - loss: 0.4126 - accuracy: 0.8333\n",
      "Epoch 89: saving model to model/point_history_classifier\\point_history_classifier.hdf5\n",
      "1/1 [==============================] - 0s 53ms/step - loss: 0.4126 - accuracy: 0.8333 - val_loss: 0.3262 - val_accuracy: 1.0000\n",
      "Epoch 90/1000\n",
      "1/1 [==============================] - ETA: 0s - loss: 0.4981 - accuracy: 0.7500\n",
      "Epoch 90: saving model to model/point_history_classifier\\point_history_classifier.hdf5\n",
      "1/1 [==============================] - 0s 53ms/step - loss: 0.4981 - accuracy: 0.7500 - val_loss: 0.3262 - val_accuracy: 1.0000\n",
      "Epoch 91/1000\n",
      "1/1 [==============================] - ETA: 0s - loss: 0.5395 - accuracy: 0.5000\n",
      "Epoch 91: saving model to model/point_history_classifier\\point_history_classifier.hdf5\n",
      "1/1 [==============================] - 0s 50ms/step - loss: 0.5395 - accuracy: 0.5000 - val_loss: 0.3262 - val_accuracy: 0.7500\n",
      "Epoch 92/1000\n",
      "1/1 [==============================] - ETA: 0s - loss: 0.5448 - accuracy: 0.6667\n",
      "Epoch 92: saving model to model/point_history_classifier\\point_history_classifier.hdf5\n",
      "1/1 [==============================] - 0s 51ms/step - loss: 0.5448 - accuracy: 0.6667 - val_loss: 0.3260 - val_accuracy: 0.7500\n",
      "Epoch 93/1000\n",
      "1/1 [==============================] - ETA: 0s - loss: 0.4972 - accuracy: 0.6667\n",
      "Epoch 93: saving model to model/point_history_classifier\\point_history_classifier.hdf5\n",
      "1/1 [==============================] - 0s 51ms/step - loss: 0.4972 - accuracy: 0.6667 - val_loss: 0.3257 - val_accuracy: 0.7500\n",
      "Epoch 94/1000\n",
      "1/1 [==============================] - ETA: 0s - loss: 0.4582 - accuracy: 0.7500\n",
      "Epoch 94: saving model to model/point_history_classifier\\point_history_classifier.hdf5\n",
      "1/1 [==============================] - 0s 53ms/step - loss: 0.4582 - accuracy: 0.7500 - val_loss: 0.3255 - val_accuracy: 0.7500\n",
      "Epoch 95/1000\n",
      "1/1 [==============================] - ETA: 0s - loss: 0.5928 - accuracy: 0.7500\n",
      "Epoch 95: saving model to model/point_history_classifier\\point_history_classifier.hdf5\n",
      "1/1 [==============================] - 0s 52ms/step - loss: 0.5928 - accuracy: 0.7500 - val_loss: 0.3256 - val_accuracy: 0.7500\n",
      "Epoch 96/1000\n",
      "1/1 [==============================] - ETA: 0s - loss: 0.4999 - accuracy: 0.5833\n",
      "Epoch 96: saving model to model/point_history_classifier\\point_history_classifier.hdf5\n",
      "1/1 [==============================] - 0s 52ms/step - loss: 0.4999 - accuracy: 0.5833 - val_loss: 0.3260 - val_accuracy: 1.0000\n",
      "Epoch 97/1000\n",
      "1/1 [==============================] - ETA: 0s - loss: 0.5374 - accuracy: 0.6667\n",
      "Epoch 97: saving model to model/point_history_classifier\\point_history_classifier.hdf5\n",
      "1/1 [==============================] - 0s 52ms/step - loss: 0.5374 - accuracy: 0.6667 - val_loss: 0.3262 - val_accuracy: 1.0000\n",
      "Epoch 98/1000\n",
      "1/1 [==============================] - ETA: 0s - loss: 0.4375 - accuracy: 0.7500\n",
      "Epoch 98: saving model to model/point_history_classifier\\point_history_classifier.hdf5\n",
      "1/1 [==============================] - 0s 51ms/step - loss: 0.4375 - accuracy: 0.7500 - val_loss: 0.3264 - val_accuracy: 1.0000\n",
      "Epoch 99/1000\n",
      "1/1 [==============================] - ETA: 0s - loss: 0.4815 - accuracy: 0.8333\n",
      "Epoch 99: saving model to model/point_history_classifier\\point_history_classifier.hdf5\n",
      "1/1 [==============================] - 0s 51ms/step - loss: 0.4815 - accuracy: 0.8333 - val_loss: 0.3264 - val_accuracy: 1.0000\n",
      "Epoch 100/1000\n",
      "1/1 [==============================] - ETA: 0s - loss: 0.4804 - accuracy: 0.5833\n",
      "Epoch 100: saving model to model/point_history_classifier\\point_history_classifier.hdf5\n",
      "1/1 [==============================] - 0s 51ms/step - loss: 0.4804 - accuracy: 0.5833 - val_loss: 0.3265 - val_accuracy: 1.0000\n",
      "Epoch 101/1000\n",
      "1/1 [==============================] - ETA: 0s - loss: 0.4241 - accuracy: 0.7500\n",
      "Epoch 101: saving model to model/point_history_classifier\\point_history_classifier.hdf5\n",
      "1/1 [==============================] - 0s 50ms/step - loss: 0.4241 - accuracy: 0.7500 - val_loss: 0.3266 - val_accuracy: 1.0000\n",
      "Epoch 102/1000\n",
      "1/1 [==============================] - ETA: 0s - loss: 0.4522 - accuracy: 0.9167\n",
      "Epoch 102: saving model to model/point_history_classifier\\point_history_classifier.hdf5\n",
      "1/1 [==============================] - 0s 52ms/step - loss: 0.4522 - accuracy: 0.9167 - val_loss: 0.3267 - val_accuracy: 1.0000\n",
      "Epoch 103/1000\n",
      "1/1 [==============================] - ETA: 0s - loss: 0.5700 - accuracy: 0.6667\n",
      "Epoch 103: saving model to model/point_history_classifier\\point_history_classifier.hdf5\n",
      "1/1 [==============================] - 0s 56ms/step - loss: 0.5700 - accuracy: 0.6667 - val_loss: 0.3268 - val_accuracy: 1.0000\n",
      "Epoch 103: early stopping\n"
     ]
    },
    {
     "data": {
      "text/plain": [
       "<keras.callbacks.History at 0x1b1a876fdc0>"
      ]
     },
     "execution_count": 12,
     "metadata": {},
     "output_type": "execute_result"
    }
   ],
   "source": [
    "model.fit(\n",
    "    X_train,\n",
    "    y_train,\n",
    "    epochs=1000,\n",
    "    batch_size=128,\n",
    "    validation_data=(X_test, y_test),\n",
    "    callbacks=[cp_callback, es_callback]\n",
    ")"
   ]
  },
  {
   "cell_type": "code",
   "execution_count": 13,
   "metadata": {},
   "outputs": [],
   "source": [
    "# 保存したモデルのロード\n",
    "model = tf.keras.models.load_model(model_save_path)"
   ]
  },
  {
   "cell_type": "code",
   "execution_count": 14,
   "metadata": {},
   "outputs": [
    {
     "name": "stdout",
     "output_type": "stream",
     "text": [
      "1/1 [==============================] - 0s 95ms/step\n",
      "[9.9994683e-01 1.3839150e-05 3.9311475e-05]\n",
      "0\n"
     ]
    }
   ],
   "source": [
    "# 推論テスト\n",
    "predict_result = model.predict(np.array([X_test[0]]))\n",
    "print(np.squeeze(predict_result))\n",
    "print(np.argmax(np.squeeze(predict_result)))"
   ]
  },
  {
   "cell_type": "markdown",
   "metadata": {},
   "source": [
    "# 混同行列"
   ]
  },
  {
   "cell_type": "code",
   "execution_count": 15,
   "metadata": {},
   "outputs": [
    {
     "name": "stdout",
     "output_type": "stream",
     "text": [
      "1/1 [==============================] - 0s 20ms/step\n"
     ]
    },
    {
     "data": {
      "image/png": "[encoded data removed]",
      "text/plain": [
       "<Figure size 504x432 with 2 Axes>"
      ]
     },
     "metadata": {
      "needs_background": "light"
     },
     "output_type": "display_data"
    },
    {
     "name": "stdout",
     "output_type": "stream",
     "text": [
      "Classification Report\n",
      "              precision    recall  f1-score   support\n",
      "\n",
      "           0       1.00      1.00      1.00         2\n",
      "           1       1.00      1.00      1.00         1\n",
      "           2       1.00      1.00      1.00         1\n",
      "\n",
      "    accuracy                           1.00         4\n",
      "   macro avg       1.00      1.00      1.00         4\n",
      "weighted avg       1.00      1.00      1.00         4\n",
      "\n"
     ]
    }
   ],
   "source": [
    "import pandas as pd\n",
    "import seaborn as sns\n",
    "import matplotlib.pyplot as plt\n",
    "from sklearn.metrics import confusion_matrix, classification_report\n",
    "\n",
    "def print_confusion_matrix(y_true, y_pred, report=True):\n",
    "    labels = sorted(list(set(y_true)))\n",
    "    cmx_data = confusion_matrix(y_true, y_pred, labels=labels)\n",
    "    \n",
    "    df_cmx = pd.DataFrame(cmx_data, index=labels, columns=labels)\n",
    " \n",
    "    fig, ax = plt.subplots(figsize=(7, 6))\n",
    "    sns.heatmap(df_cmx, annot=True, fmt='g' ,square=False)\n",
    "    ax.set_ylim(len(set(y_true)), 0)\n",
    "    plt.show()\n",
    "    \n",
    "    if report:\n",
    "        print('Classification Report')\n",
    "        print(classification_report(y_test, y_pred))\n",
    "\n",
    "Y_pred = model.predict(X_test)\n",
    "y_pred = np.argmax(Y_pred, axis=1)\n",
    "\n",
    "print_confusion_matrix(y_test, y_pred)"
   ]
  },
  {
   "cell_type": "markdown",
   "metadata": {},
   "source": [
    "# Tensorflow-Lite用のモデルへ変換"
   ]
  },
  {
   "cell_type": "code",
   "execution_count": 16,
   "metadata": {},
   "outputs": [
    {
     "name": "stdout",
     "output_type": "stream",
     "text": [
      "WARNING:tensorflow:No training configuration found in the save file, so the model was *not* compiled. Compile it manually.\n"
     ]
    }
   ],
   "source": [
    "# 推論専用のモデルとして保存\n",
    "model.save(model_save_path, include_optimizer=False)\n",
    "model = tf.keras.models.load_model(model_save_path)"
   ]
  },
  {
   "cell_type": "code",
   "execution_count": 17,
   "metadata": {},
   "outputs": [],
   "source": [
    "tflite_save_path = 'model/point_history_classifier/point_history_classifier.tflite'"
   ]
  },
  {
   "cell_type": "code",
   "execution_count": 18,
   "metadata": {},
   "outputs": [
    {
     "name": "stdout",
     "output_type": "stream",
     "text": [
      "INFO:tensorflow:Assets written to: C:\\Users\\facut\\AppData\\Local\\Temp\\tmpj45odd20\\assets\n"
     ]
    },
    {
     "data": {
      "text/plain": [
       "35608"
      ]
     },
     "execution_count": 18,
     "metadata": {},
     "output_type": "execute_result"
    }
   ],
   "source": [
    "# モデルを変換(量子化\n",
    "converter = tf.lite.TFLiteConverter.from_keras_model(model)  # converter = tf.lite.TFLiteConverter.from_saved_model(saved_model_path)\n",
    "converter.optimizations = [tf.lite.Optimize.DEFAULT]\n",
    "tflite_quantized_model = converter.convert()\n",
    "\n",
    "open(tflite_save_path, 'wb').write(tflite_quantized_model)"
   ]
  },
  {
   "cell_type": "markdown",
   "metadata": {},
   "source": [
    "# 推論テスト"
   ]
  },
  {
   "cell_type": "code",
   "execution_count": 19,
   "metadata": {},
   "outputs": [],
   "source": [
    "interpreter = tf.lite.Interpreter(model_path=tflite_save_path)\n",
    "interpreter.allocate_tensors()"
   ]
  },
  {
   "cell_type": "code",
   "execution_count": 20,
   "metadata": {},
   "outputs": [
    {
     "name": "stdout",
     "output_type": "stream",
     "text": [
      "[{'name': 'serving_default_input_1:0', 'index': 0, 'shape': array([   1, 1344]), 'shape_signature': array([  -1, 1344]), 'dtype': <class 'numpy.float32'>, 'quantization': (0.0, 0), 'quantization_parameters': {'scales': array([], dtype=float32), 'zero_points': array([], dtype=int32), 'quantized_dimension': 0}, 'sparsity_parameters': {}}]\n"
     ]
    }
   ],
   "source": [
    "# 入出力テンソルを取得\n",
    "input_details = interpreter.get_input_details()\n",
    "output_details = interpreter.get_output_details()\n",
    "print(input_details)"
   ]
  },
  {
   "cell_type": "code",
   "execution_count": 21,
   "metadata": {},
   "outputs": [],
   "source": [
    "interpreter.set_tensor(input_details[0]['index'], np.array([X_test[0]]))"
   ]
  },
  {
   "cell_type": "code",
   "execution_count": 22,
   "metadata": {},
   "outputs": [
    {
     "name": "stdout",
     "output_type": "stream",
     "text": [
      "CPU times: total: 0 ns\n",
      "Wall time: 0 ns\n"
     ]
    }
   ],
   "source": [
    "%%time\n",
    "# 推論実施\n",
    "interpreter.invoke()\n",
    "tflite_results = interpreter.get_tensor(output_details[0]['index'])"
   ]
  },
  {
   "cell_type": "code",
   "execution_count": 23,
   "metadata": {},
   "outputs": [
    {
     "name": "stdout",
     "output_type": "stream",
     "text": [
      "[9.9994683e-01 1.3852988e-05 3.9310500e-05]\n",
      "0\n"
     ]
    }
   ],
   "source": [
    "print(np.squeeze(tflite_results))\n",
    "print(np.argmax(np.squeeze(tflite_results)))"
   ]
  }
 ],
 "metadata": {
  "kernelspec": {
   "display_name": "Python 3 (ipykernel)",
   "language": "python",
   "name": "python3"
  },
  "language_info": {
   "codemirror_mode": {
    "name": "ipython",
    "version": 3
   },
   "file_extension": ".py",
   "mimetype": "text/x-python",
   "name": "python",
   "nbconvert_exporter": "python",
   "pygments_lexer": "ipython3",
   "version": "3.9.12"
  }
 },
 "nbformat": 4,
 "nbformat_minor": 4
}
